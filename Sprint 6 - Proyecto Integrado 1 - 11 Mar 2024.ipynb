{
 "cells": [
  {
   "cell_type": "markdown",
   "metadata": {},
   "source": [
    "¡Hola!\n",
    "\n",
    "Mi nombre es Tonatiuh Cruz. Me complace revisar tu proyecto hoy.\n",
    "\n",
    "Al identificar cualquier error inicialmente, simplemente los destacaré. Te animo a localizar y abordar los problemas de forma independiente como parte de tu preparación para un rol como data-scientist. En un entorno profesional, tu líder de equipo seguiría un enfoque similar. Si encuentras la tarea desafiante, proporcionaré una pista más específica en la próxima iteración.\n",
    "\n",
    "Encontrarás mis comentarios a continuación - **por favor no los muevas, modifiques o elimines**.\n",
    "\n",
    "Puedes encontrar mis comentarios en cajas verdes, amarillas o rojas como esta:\n",
    "\n",
    "<div class=\"alert alert-block alert-success\">\n",
    "<b>Comentario del revisor</b> <a class=\"tocSkip\"></a>\n",
    "\n",
    "Éxito. Todo está hecho correctamente.\n",
    "</div>\n",
    "\n",
    "<div class=\"alert alert-block alert-warning\">\n",
    "<b>Comentario del revisor</b> <a class=\"tocSkip\"></a>\n",
    "\n",
    "Observaciones. Algunas recomendaciones.\n",
    "</div>\n",
    "\n",
    "<div class=\"alert alert-block alert-danger\">\n",
    "<b>Comentario del revisor</b> <a class=\"tocSkip\"></a>\n",
    "\n",
    "Necesita corrección. El bloque requiere algunas correcciones. El trabajo no puede ser aceptado con comentarios en rojo.\n",
    "</div>\n",
    "\n",
    "Puedes responderme utilizando esto:\n",
    "\n",
    "<div class=\"alert alert-block alert-info\">\n",
    "<b>Respuesta del estudiante.</b> <a class=\"tocSkip\"></a>\n",
    "</div>"
   ]
  },
  {
   "cell_type": "markdown",
   "metadata": {},
   "source": [
    "# Proyecto integrado: Online Ice - campaña venta de video juegos."
   ]
  },
  {
   "cell_type": "markdown",
   "metadata": {},
   "source": [
    "**Descripción del proyecto:**\n",
    "\n",
    "Trabajas para la tienda online Ice que vende videojuegos por todo el mundo. Las reseñas de usuarios y expertos, los géneros, las plataformas (por ejemplo, Xbox o PlayStation) y los datos históricos sobre las ventas de juegos están disponibles en fuentes abiertas. Tienes que identificar patrones que determinen si un juego tiene éxito o no. Esto te permitirá detectar proyectos prometedores y planificar campañas publicitarias.\n",
    "\n",
    "Delante de ti hay datos que se remontan a 2016. Imaginemos que es diciembre de 2016 y estás planeando una campaña para 2017.\n",
    "\n",
    "Lo importante es adquirir experiencia de trabajo con datos. Realmente no importa si estás pronosticando las ventas de 2017 en función de los datos de 2016 o las ventas de 2027 en función de los datos de 2026.\n",
    "\n",
    "El dataset contiene una columna \"rating\" que almacena la clasificación ESRB de cada juego. El Entertainment Software Rating Board (la Junta de clasificación de software de entretenimiento) evalúa el contenido de un juego y asigna una clasificación de edad como Adolescente o Adulto.\n",
    "\n",
    "\n",
    "**Descripción de datos**\n",
    "\n",
    "— Name (Nombre)\n",
    "\n",
    "— Platform (Plataforma)\n",
    "\n",
    "— Year_of_Release (Año de lanzamiento)\n",
    "\n",
    "— Genre (Género) \n",
    "\n",
    "— NA_sales (ventas en Norteamérica en millones de dólares estadounidenses) \n",
    "\n",
    "— EU_sales (ventas en Europa en millones de dólares estadounidenses) \n",
    "\n",
    "— JP_sales (ventas en Japón en millones de dólares estadounidenses) \n",
    "\n",
    "— Other_sales (ventas en otros países en millones de dólares estadounidenses) \n",
    "\n",
    "— Critic_Score (máximo de 100) \n",
    "\n",
    "— User_Score (máximo de 10) \n",
    "\n",
    "— Rating (ESRB)\n",
    "\n",
    "*Es posible que los datos de 2016 estén incompletos.*"
   ]
  },
  {
   "cell_type": "code",
   "execution_count": 1,
   "metadata": {
    "tags": [
     "e5c1f0c2-db9f-43a0-99b9-4875c52427e8"
    ]
   },
   "outputs": [],
   "source": [
    "import pandas as pd\n",
    "import numpy as np\n",
    "import matplotlib.pyplot as plt\n",
    "import math as mt\n",
    "from scipy import stats as st\n",
    "import seaborn as sns"
   ]
  },
  {
   "cell_type": "markdown",
   "metadata": {},
   "source": [
    "\n",
    "<div class=\"alert alert-block alert-success\">\n",
    "<b>Comentario del revisor:</b> <a class=\"tocSkip\"></a>\n",
    "    \n",
    "Has realizado un excelente trabajo al importar los datos y las bibliotecas necesarias.\n",
    "\n",
    "</div>"
   ]
  },
  {
   "cell_type": "markdown",
   "metadata": {},
   "source": [
    "###  Abre el archivo de datos y estudia la información general "
   ]
  },
  {
   "cell_type": "code",
   "execution_count": 2,
   "metadata": {
    "scrolled": false
   },
   "outputs": [
    {
     "data": {
      "text/html": [
       "<div>\n",
       "<style scoped>\n",
       "    .dataframe tbody tr th:only-of-type {\n",
       "        vertical-align: middle;\n",
       "    }\n",
       "\n",
       "    .dataframe tbody tr th {\n",
       "        vertical-align: top;\n",
       "    }\n",
       "\n",
       "    .dataframe thead th {\n",
       "        text-align: right;\n",
       "    }\n",
       "</style>\n",
       "<table border=\"1\" class=\"dataframe\">\n",
       "  <thead>\n",
       "    <tr style=\"text-align: right;\">\n",
       "      <th></th>\n",
       "      <th>Name</th>\n",
       "      <th>Platform</th>\n",
       "      <th>Year_of_Release</th>\n",
       "      <th>Genre</th>\n",
       "      <th>NA_sales</th>\n",
       "      <th>EU_sales</th>\n",
       "      <th>JP_sales</th>\n",
       "      <th>Other_sales</th>\n",
       "      <th>Critic_Score</th>\n",
       "      <th>User_Score</th>\n",
       "      <th>Rating</th>\n",
       "    </tr>\n",
       "  </thead>\n",
       "  <tbody>\n",
       "    <tr>\n",
       "      <th>0</th>\n",
       "      <td>Wii Sports</td>\n",
       "      <td>Wii</td>\n",
       "      <td>2006.0</td>\n",
       "      <td>Sports</td>\n",
       "      <td>41.36</td>\n",
       "      <td>28.96</td>\n",
       "      <td>3.77</td>\n",
       "      <td>8.45</td>\n",
       "      <td>76.0</td>\n",
       "      <td>8</td>\n",
       "      <td>E</td>\n",
       "    </tr>\n",
       "    <tr>\n",
       "      <th>1</th>\n",
       "      <td>Super Mario Bros.</td>\n",
       "      <td>NES</td>\n",
       "      <td>1985.0</td>\n",
       "      <td>Platform</td>\n",
       "      <td>29.08</td>\n",
       "      <td>3.58</td>\n",
       "      <td>6.81</td>\n",
       "      <td>0.77</td>\n",
       "      <td>NaN</td>\n",
       "      <td>NaN</td>\n",
       "      <td>NaN</td>\n",
       "    </tr>\n",
       "    <tr>\n",
       "      <th>2</th>\n",
       "      <td>Mario Kart Wii</td>\n",
       "      <td>Wii</td>\n",
       "      <td>2008.0</td>\n",
       "      <td>Racing</td>\n",
       "      <td>15.68</td>\n",
       "      <td>12.76</td>\n",
       "      <td>3.79</td>\n",
       "      <td>3.29</td>\n",
       "      <td>82.0</td>\n",
       "      <td>8.3</td>\n",
       "      <td>E</td>\n",
       "    </tr>\n",
       "    <tr>\n",
       "      <th>3</th>\n",
       "      <td>Wii Sports Resort</td>\n",
       "      <td>Wii</td>\n",
       "      <td>2009.0</td>\n",
       "      <td>Sports</td>\n",
       "      <td>15.61</td>\n",
       "      <td>10.93</td>\n",
       "      <td>3.28</td>\n",
       "      <td>2.95</td>\n",
       "      <td>80.0</td>\n",
       "      <td>8</td>\n",
       "      <td>E</td>\n",
       "    </tr>\n",
       "    <tr>\n",
       "      <th>4</th>\n",
       "      <td>Pokemon Red/Pokemon Blue</td>\n",
       "      <td>GB</td>\n",
       "      <td>1996.0</td>\n",
       "      <td>Role-Playing</td>\n",
       "      <td>11.27</td>\n",
       "      <td>8.89</td>\n",
       "      <td>10.22</td>\n",
       "      <td>1.00</td>\n",
       "      <td>NaN</td>\n",
       "      <td>NaN</td>\n",
       "      <td>NaN</td>\n",
       "    </tr>\n",
       "  </tbody>\n",
       "</table>\n",
       "</div>"
      ],
      "text/plain": [
       "                       Name Platform  Year_of_Release         Genre  NA_sales  \\\n",
       "0                Wii Sports      Wii           2006.0        Sports     41.36   \n",
       "1         Super Mario Bros.      NES           1985.0      Platform     29.08   \n",
       "2            Mario Kart Wii      Wii           2008.0        Racing     15.68   \n",
       "3         Wii Sports Resort      Wii           2009.0        Sports     15.61   \n",
       "4  Pokemon Red/Pokemon Blue       GB           1996.0  Role-Playing     11.27   \n",
       "\n",
       "   EU_sales  JP_sales  Other_sales  Critic_Score User_Score Rating  \n",
       "0     28.96      3.77         8.45          76.0          8      E  \n",
       "1      3.58      6.81         0.77           NaN        NaN    NaN  \n",
       "2     12.76      3.79         3.29          82.0        8.3      E  \n",
       "3     10.93      3.28         2.95          80.0          8      E  \n",
       "4      8.89     10.22         1.00           NaN        NaN    NaN  "
      ]
     },
     "execution_count": 2,
     "metadata": {},
     "output_type": "execute_result"
    }
   ],
   "source": [
    "games = pd.read_csv('/datasets/games.csv')\n",
    "games.head(5)"
   ]
  },
  {
   "cell_type": "markdown",
   "metadata": {},
   "source": [
    "### Prepara los datos"
   ]
  },
  {
   "cell_type": "markdown",
   "metadata": {},
   "source": [
    "2.1 Reemplaza los nombres de las columnas (ponlos en minúsculas)."
   ]
  },
  {
   "cell_type": "code",
   "execution_count": 3,
   "metadata": {},
   "outputs": [
    {
     "data": {
      "text/plain": [
       "Index(['name', 'platform', 'year_of_release', 'genre', 'na_sales', 'eu_sales',\n",
       "       'jp_sales', 'other_sales', 'critic_score', 'user_score', 'rating'],\n",
       "      dtype='object')"
      ]
     },
     "execution_count": 3,
     "metadata": {},
     "output_type": "execute_result"
    }
   ],
   "source": [
    "# remplazar los nombres de las columnas a minúsculas\n",
    "# uso la funcion map junto con str.lower para asignar nuevos valores a games.columns\n",
    "\n",
    "games.columns = map(str.lower, games.columns)\n",
    "games.columns"
   ]
  },
  {
   "cell_type": "markdown",
   "metadata": {},
   "source": [
    "2.2 Convierte los datos en los tipos necesarios. Describe las columnas en las que los tipos de datos han sido cambiados y explica por qué."
   ]
  },
  {
   "cell_type": "code",
   "execution_count": 4,
   "metadata": {},
   "outputs": [
    {
     "name": "stdout",
     "output_type": "stream",
     "text": [
      "<class 'pandas.core.frame.DataFrame'>\n",
      "RangeIndex: 16715 entries, 0 to 16714\n",
      "Data columns (total 11 columns):\n",
      " #   Column           Non-Null Count  Dtype  \n",
      "---  ------           --------------  -----  \n",
      " 0   name             16713 non-null  object \n",
      " 1   platform         16715 non-null  object \n",
      " 2   year_of_release  16446 non-null  float64\n",
      " 3   genre            16713 non-null  object \n",
      " 4   na_sales         16715 non-null  float64\n",
      " 5   eu_sales         16715 non-null  float64\n",
      " 6   jp_sales         16715 non-null  float64\n",
      " 7   other_sales      16715 non-null  float64\n",
      " 8   critic_score     8137 non-null   float64\n",
      " 9   user_score       10014 non-null  object \n",
      " 10  rating           9949 non-null   object \n",
      "dtypes: float64(6), object(5)\n",
      "memory usage: 1.4+ MB\n"
     ]
    }
   ],
   "source": [
    "games.info()"
   ]
  },
  {
   "cell_type": "markdown",
   "metadata": {},
   "source": [
    "**Columnas a cambiar**\n",
    "- `year_of_release`   a int: se realizará posteriormente de tratar los valores ausentes (para asegurarnos que el año sea correcto)\n",
    " \n",
    "- `user_score`        a float: se realizará posteriormente de tratar los valores (debe ser una columna numérica)\n"
   ]
  },
  {
   "cell_type": "markdown",
   "metadata": {},
   "source": [
    "Si es necesario, elige la manera de tratar los valores ausentes: Explica por qué rellenaste los valores ausentes como lo hiciste o por qué decidiste dejarlos en blanco. ¿Por qué crees que los valores están ausentes? Brinda explicaciones posibles. Presta atención a la abreviatura TBD: significa \"to be determined\" (a determinar). Especifica cómo piensas manejar estos casos."
   ]
  },
  {
   "cell_type": "markdown",
   "metadata": {},
   "source": [
    "2.3 Tratar valores ausentes\n",
    "\n",
    "**en name, year_of_release, genre, critic_score, user_score, rating**"
   ]
  },
  {
   "cell_type": "markdown",
   "metadata": {},
   "source": [
    "**Columna name y genre:**"
   ]
  },
  {
   "cell_type": "code",
   "execution_count": 5,
   "metadata": {},
   "outputs": [
    {
     "data": {
      "text/plain": [
       "name                  2\n",
       "platform              0\n",
       "year_of_release     269\n",
       "genre                 2\n",
       "na_sales              0\n",
       "eu_sales              0\n",
       "jp_sales              0\n",
       "other_sales           0\n",
       "critic_score       8578\n",
       "user_score         6701\n",
       "rating             6766\n",
       "dtype: int64"
      ]
     },
     "execution_count": 5,
     "metadata": {},
     "output_type": "execute_result"
    }
   ],
   "source": [
    "games.isna().sum()"
   ]
  },
  {
   "cell_type": "code",
   "execution_count": 6,
   "metadata": {
    "scrolled": true
   },
   "outputs": [
    {
     "data": {
      "text/html": [
       "<div>\n",
       "<style scoped>\n",
       "    .dataframe tbody tr th:only-of-type {\n",
       "        vertical-align: middle;\n",
       "    }\n",
       "\n",
       "    .dataframe tbody tr th {\n",
       "        vertical-align: top;\n",
       "    }\n",
       "\n",
       "    .dataframe thead th {\n",
       "        text-align: right;\n",
       "    }\n",
       "</style>\n",
       "<table border=\"1\" class=\"dataframe\">\n",
       "  <thead>\n",
       "    <tr style=\"text-align: right;\">\n",
       "      <th></th>\n",
       "      <th>name</th>\n",
       "      <th>platform</th>\n",
       "      <th>year_of_release</th>\n",
       "      <th>genre</th>\n",
       "      <th>na_sales</th>\n",
       "      <th>eu_sales</th>\n",
       "      <th>jp_sales</th>\n",
       "      <th>other_sales</th>\n",
       "      <th>critic_score</th>\n",
       "      <th>user_score</th>\n",
       "      <th>rating</th>\n",
       "    </tr>\n",
       "  </thead>\n",
       "  <tbody>\n",
       "    <tr>\n",
       "      <th>659</th>\n",
       "      <td>NaN</td>\n",
       "      <td>GEN</td>\n",
       "      <td>1993.0</td>\n",
       "      <td>NaN</td>\n",
       "      <td>1.78</td>\n",
       "      <td>0.53</td>\n",
       "      <td>0.00</td>\n",
       "      <td>0.08</td>\n",
       "      <td>NaN</td>\n",
       "      <td>NaN</td>\n",
       "      <td>NaN</td>\n",
       "    </tr>\n",
       "    <tr>\n",
       "      <th>14244</th>\n",
       "      <td>NaN</td>\n",
       "      <td>GEN</td>\n",
       "      <td>1993.0</td>\n",
       "      <td>NaN</td>\n",
       "      <td>0.00</td>\n",
       "      <td>0.00</td>\n",
       "      <td>0.03</td>\n",
       "      <td>0.00</td>\n",
       "      <td>NaN</td>\n",
       "      <td>NaN</td>\n",
       "      <td>NaN</td>\n",
       "    </tr>\n",
       "  </tbody>\n",
       "</table>\n",
       "</div>"
      ],
      "text/plain": [
       "      name platform  year_of_release genre  na_sales  eu_sales  jp_sales  \\\n",
       "659    NaN      GEN           1993.0   NaN      1.78      0.53      0.00   \n",
       "14244  NaN      GEN           1993.0   NaN      0.00      0.00      0.03   \n",
       "\n",
       "       other_sales  critic_score user_score rating  \n",
       "659           0.08           NaN        NaN    NaN  \n",
       "14244         0.00           NaN        NaN    NaN  "
      ]
     },
     "execution_count": 6,
     "metadata": {},
     "output_type": "execute_result"
    }
   ],
   "source": [
    "#juegos sin nombre en el dataframe\n",
    "games[games['name'].isna()]"
   ]
  },
  {
   "cell_type": "markdown",
   "metadata": {},
   "source": [
    "**Observación:**\n",
    "\n",
    "Solo tenemos 2 juegos de la consola GEN sin datos, las ventas de Japón aparecen en una fila incorrecta\n",
    "\n",
    "Todo indica que la información de un mismo juego está separada en una línea para las ventas de Japón, lo ideal sería mantener los datos en una sola fila en nuestro data frame, podemos corregir el valor y eliminar la fila 14244,\n",
    "\n",
    "además renombras N/A como No Name y No genre\n"
   ]
  },
  {
   "cell_type": "code",
   "execution_count": 7,
   "metadata": {},
   "outputs": [],
   "source": [
    "# corregir las ventas en Japón usando at()\n",
    "games.at[659,'jp_sales'] = 0.03\n",
    "games.at[659,'name'] = 'No Name'\n",
    "games.at[659,'genre'] = 'No Genre'"
   ]
  },
  {
   "cell_type": "code",
   "execution_count": 8,
   "metadata": {},
   "outputs": [
    {
     "data": {
      "text/plain": [
       "name               0.0\n",
       "platform           0.0\n",
       "year_of_release    0.0\n",
       "genre              0.0\n",
       "na_sales           0.0\n",
       "eu_sales           0.0\n",
       "jp_sales           0.0\n",
       "other_sales        0.0\n",
       "critic_score       0.0\n",
       "user_score         0.0\n",
       "rating             0.0\n",
       "dtype: float64"
      ]
     },
     "execution_count": 8,
     "metadata": {},
     "output_type": "execute_result"
    }
   ],
   "source": [
    "# eliminar fila duplicada para las ventas de JP y verificar NA de nuevo \n",
    "games.drop(14244, inplace = True)\n",
    "games.reset_index(drop=True, inplace=True)\n",
    "games[games['name'].isna()].sum()"
   ]
  },
  {
   "cell_type": "markdown",
   "metadata": {},
   "source": [
    "Podemos confirmar que no hay más valores ausentes en la columna Name sin perder los datos de las ventas en Japón"
   ]
  },
  {
   "cell_type": "markdown",
   "metadata": {},
   "source": [
    "**Columna 'year_of_release':**"
   ]
  },
  {
   "cell_type": "code",
   "execution_count": 9,
   "metadata": {},
   "outputs": [
    {
     "data": {
      "text/plain": [
       "269"
      ]
     },
     "execution_count": 9,
     "metadata": {},
     "output_type": "execute_result"
    }
   ],
   "source": [
    "games['year_of_release'].isna().sum()"
   ]
  },
  {
   "cell_type": "code",
   "execution_count": 10,
   "metadata": {
    "scrolled": true
   },
   "outputs": [
    {
     "data": {
      "text/html": [
       "<div>\n",
       "<style scoped>\n",
       "    .dataframe tbody tr th:only-of-type {\n",
       "        vertical-align: middle;\n",
       "    }\n",
       "\n",
       "    .dataframe tbody tr th {\n",
       "        vertical-align: top;\n",
       "    }\n",
       "\n",
       "    .dataframe thead th {\n",
       "        text-align: right;\n",
       "    }\n",
       "</style>\n",
       "<table border=\"1\" class=\"dataframe\">\n",
       "  <thead>\n",
       "    <tr style=\"text-align: right;\">\n",
       "      <th></th>\n",
       "      <th>name</th>\n",
       "      <th>platform</th>\n",
       "      <th>year_of_release</th>\n",
       "      <th>genre</th>\n",
       "      <th>na_sales</th>\n",
       "      <th>eu_sales</th>\n",
       "      <th>jp_sales</th>\n",
       "      <th>other_sales</th>\n",
       "      <th>critic_score</th>\n",
       "      <th>user_score</th>\n",
       "      <th>rating</th>\n",
       "    </tr>\n",
       "  </thead>\n",
       "  <tbody>\n",
       "    <tr>\n",
       "      <th>183</th>\n",
       "      <td>Madden NFL 2004</td>\n",
       "      <td>PS2</td>\n",
       "      <td>NaN</td>\n",
       "      <td>Sports</td>\n",
       "      <td>4.26</td>\n",
       "      <td>0.26</td>\n",
       "      <td>0.01</td>\n",
       "      <td>0.71</td>\n",
       "      <td>94.0</td>\n",
       "      <td>8.5</td>\n",
       "      <td>E</td>\n",
       "    </tr>\n",
       "    <tr>\n",
       "      <th>377</th>\n",
       "      <td>FIFA Soccer 2004</td>\n",
       "      <td>PS2</td>\n",
       "      <td>NaN</td>\n",
       "      <td>Sports</td>\n",
       "      <td>0.59</td>\n",
       "      <td>2.36</td>\n",
       "      <td>0.04</td>\n",
       "      <td>0.51</td>\n",
       "      <td>84.0</td>\n",
       "      <td>6.4</td>\n",
       "      <td>E</td>\n",
       "    </tr>\n",
       "    <tr>\n",
       "      <th>456</th>\n",
       "      <td>LEGO Batman: The Videogame</td>\n",
       "      <td>Wii</td>\n",
       "      <td>NaN</td>\n",
       "      <td>Action</td>\n",
       "      <td>1.80</td>\n",
       "      <td>0.97</td>\n",
       "      <td>0.00</td>\n",
       "      <td>0.29</td>\n",
       "      <td>74.0</td>\n",
       "      <td>7.9</td>\n",
       "      <td>E10+</td>\n",
       "    </tr>\n",
       "    <tr>\n",
       "      <th>475</th>\n",
       "      <td>wwe Smackdown vs. Raw 2006</td>\n",
       "      <td>PS2</td>\n",
       "      <td>NaN</td>\n",
       "      <td>Fighting</td>\n",
       "      <td>1.57</td>\n",
       "      <td>1.02</td>\n",
       "      <td>0.00</td>\n",
       "      <td>0.41</td>\n",
       "      <td>NaN</td>\n",
       "      <td>NaN</td>\n",
       "      <td>NaN</td>\n",
       "    </tr>\n",
       "    <tr>\n",
       "      <th>609</th>\n",
       "      <td>Space Invaders</td>\n",
       "      <td>2600</td>\n",
       "      <td>NaN</td>\n",
       "      <td>Shooter</td>\n",
       "      <td>2.36</td>\n",
       "      <td>0.14</td>\n",
       "      <td>0.00</td>\n",
       "      <td>0.03</td>\n",
       "      <td>NaN</td>\n",
       "      <td>NaN</td>\n",
       "      <td>NaN</td>\n",
       "    </tr>\n",
       "  </tbody>\n",
       "</table>\n",
       "</div>"
      ],
      "text/plain": [
       "                           name platform  year_of_release     genre  na_sales  \\\n",
       "183             Madden NFL 2004      PS2              NaN    Sports      4.26   \n",
       "377            FIFA Soccer 2004      PS2              NaN    Sports      0.59   \n",
       "456  LEGO Batman: The Videogame      Wii              NaN    Action      1.80   \n",
       "475  wwe Smackdown vs. Raw 2006      PS2              NaN  Fighting      1.57   \n",
       "609              Space Invaders     2600              NaN   Shooter      2.36   \n",
       "\n",
       "     eu_sales  jp_sales  other_sales  critic_score user_score rating  \n",
       "183      0.26      0.01         0.71          94.0        8.5      E  \n",
       "377      2.36      0.04         0.51          84.0        6.4      E  \n",
       "456      0.97      0.00         0.29          74.0        7.9   E10+  \n",
       "475      1.02      0.00         0.41           NaN        NaN    NaN  \n",
       "609      0.14      0.00         0.03           NaN        NaN    NaN  "
      ]
     },
     "execution_count": 10,
     "metadata": {},
     "output_type": "execute_result"
    }
   ],
   "source": [
    "# Juegos sin año de lanzamiento\n",
    "games[games['year_of_release'].isna()].head(5)"
   ]
  },
  {
   "cell_type": "code",
   "execution_count": 11,
   "metadata": {
    "scrolled": true
   },
   "outputs": [
    {
     "data": {
      "text/html": [
       "<div>\n",
       "<style scoped>\n",
       "    .dataframe tbody tr th:only-of-type {\n",
       "        vertical-align: middle;\n",
       "    }\n",
       "\n",
       "    .dataframe tbody tr th {\n",
       "        vertical-align: top;\n",
       "    }\n",
       "\n",
       "    .dataframe thead th {\n",
       "        text-align: right;\n",
       "    }\n",
       "</style>\n",
       "<table border=\"1\" class=\"dataframe\">\n",
       "  <thead>\n",
       "    <tr style=\"text-align: right;\">\n",
       "      <th></th>\n",
       "      <th>name</th>\n",
       "      <th>platform</th>\n",
       "      <th>year_of_release</th>\n",
       "      <th>genre</th>\n",
       "      <th>na_sales</th>\n",
       "      <th>eu_sales</th>\n",
       "      <th>jp_sales</th>\n",
       "      <th>other_sales</th>\n",
       "      <th>critic_score</th>\n",
       "      <th>user_score</th>\n",
       "      <th>rating</th>\n",
       "    </tr>\n",
       "  </thead>\n",
       "  <tbody>\n",
       "    <tr>\n",
       "      <th>397</th>\n",
       "      <td>LEGO Batman: The Videogame</td>\n",
       "      <td>X360</td>\n",
       "      <td>2008.0</td>\n",
       "      <td>Action</td>\n",
       "      <td>2.04</td>\n",
       "      <td>1.02</td>\n",
       "      <td>0.0</td>\n",
       "      <td>0.32</td>\n",
       "      <td>76.0</td>\n",
       "      <td>7.9</td>\n",
       "      <td>E10+</td>\n",
       "    </tr>\n",
       "    <tr>\n",
       "      <th>456</th>\n",
       "      <td>LEGO Batman: The Videogame</td>\n",
       "      <td>Wii</td>\n",
       "      <td>NaN</td>\n",
       "      <td>Action</td>\n",
       "      <td>1.80</td>\n",
       "      <td>0.97</td>\n",
       "      <td>0.0</td>\n",
       "      <td>0.29</td>\n",
       "      <td>74.0</td>\n",
       "      <td>7.9</td>\n",
       "      <td>E10+</td>\n",
       "    </tr>\n",
       "    <tr>\n",
       "      <th>460</th>\n",
       "      <td>LEGO Batman: The Videogame</td>\n",
       "      <td>DS</td>\n",
       "      <td>2008.0</td>\n",
       "      <td>Action</td>\n",
       "      <td>1.75</td>\n",
       "      <td>1.01</td>\n",
       "      <td>0.0</td>\n",
       "      <td>0.29</td>\n",
       "      <td>72.0</td>\n",
       "      <td>8</td>\n",
       "      <td>E10+</td>\n",
       "    </tr>\n",
       "    <tr>\n",
       "      <th>1519</th>\n",
       "      <td>LEGO Batman: The Videogame</td>\n",
       "      <td>PS3</td>\n",
       "      <td>2008.0</td>\n",
       "      <td>Action</td>\n",
       "      <td>0.72</td>\n",
       "      <td>0.39</td>\n",
       "      <td>0.0</td>\n",
       "      <td>0.19</td>\n",
       "      <td>75.0</td>\n",
       "      <td>7.7</td>\n",
       "      <td>E10+</td>\n",
       "    </tr>\n",
       "    <tr>\n",
       "      <th>1538</th>\n",
       "      <td>LEGO Batman: The Videogame</td>\n",
       "      <td>PSP</td>\n",
       "      <td>NaN</td>\n",
       "      <td>Action</td>\n",
       "      <td>0.57</td>\n",
       "      <td>0.44</td>\n",
       "      <td>0.0</td>\n",
       "      <td>0.27</td>\n",
       "      <td>73.0</td>\n",
       "      <td>7.4</td>\n",
       "      <td>E10+</td>\n",
       "    </tr>\n",
       "    <tr>\n",
       "      <th>1553</th>\n",
       "      <td>LEGO Batman: The Videogame</td>\n",
       "      <td>PS2</td>\n",
       "      <td>2008.0</td>\n",
       "      <td>Action</td>\n",
       "      <td>0.72</td>\n",
       "      <td>0.03</td>\n",
       "      <td>0.0</td>\n",
       "      <td>0.52</td>\n",
       "      <td>77.0</td>\n",
       "      <td>8.9</td>\n",
       "      <td>E10+</td>\n",
       "    </tr>\n",
       "    <tr>\n",
       "      <th>12465</th>\n",
       "      <td>LEGO Batman: The Videogame</td>\n",
       "      <td>PC</td>\n",
       "      <td>2008.0</td>\n",
       "      <td>Action</td>\n",
       "      <td>0.02</td>\n",
       "      <td>0.03</td>\n",
       "      <td>0.0</td>\n",
       "      <td>0.01</td>\n",
       "      <td>80.0</td>\n",
       "      <td>7.8</td>\n",
       "      <td>E10+</td>\n",
       "    </tr>\n",
       "  </tbody>\n",
       "</table>\n",
       "</div>"
      ],
      "text/plain": [
       "                             name platform  year_of_release   genre  na_sales  \\\n",
       "397    LEGO Batman: The Videogame     X360           2008.0  Action      2.04   \n",
       "456    LEGO Batman: The Videogame      Wii              NaN  Action      1.80   \n",
       "460    LEGO Batman: The Videogame       DS           2008.0  Action      1.75   \n",
       "1519   LEGO Batman: The Videogame      PS3           2008.0  Action      0.72   \n",
       "1538   LEGO Batman: The Videogame      PSP              NaN  Action      0.57   \n",
       "1553   LEGO Batman: The Videogame      PS2           2008.0  Action      0.72   \n",
       "12465  LEGO Batman: The Videogame       PC           2008.0  Action      0.02   \n",
       "\n",
       "       eu_sales  jp_sales  other_sales  critic_score user_score rating  \n",
       "397        1.02       0.0         0.32          76.0        7.9   E10+  \n",
       "456        0.97       0.0         0.29          74.0        7.9   E10+  \n",
       "460        1.01       0.0         0.29          72.0          8   E10+  \n",
       "1519       0.39       0.0         0.19          75.0        7.7   E10+  \n",
       "1538       0.44       0.0         0.27          73.0        7.4   E10+  \n",
       "1553       0.03       0.0         0.52          77.0        8.9   E10+  \n",
       "12465      0.03       0.0         0.01          80.0        7.8   E10+  "
      ]
     },
     "execution_count": 11,
     "metadata": {},
     "output_type": "execute_result"
    }
   ],
   "source": [
    "#podemos comprobar que hay valores NaN con homónimos con información completa\n",
    "games[games['name']=='LEGO Batman: The Videogame']"
   ]
  },
  {
   "cell_type": "markdown",
   "metadata": {},
   "source": [
    "**Observación:**\n",
    "\n",
    "Para un mismo juego pueden haber valores NaN en algunas plataformas, esto pude deberse a que no se registró el año, sin embargo podemos usar como referencia el año de lanzamiento en otras consolas para el mismo título. "
   ]
  },
  {
   "cell_type": "code",
   "execution_count": 12,
   "metadata": {
    "scrolled": true
   },
   "outputs": [
    {
     "data": {
      "text/html": [
       "<div>\n",
       "<style scoped>\n",
       "    .dataframe tbody tr th:only-of-type {\n",
       "        vertical-align: middle;\n",
       "    }\n",
       "\n",
       "    .dataframe tbody tr th {\n",
       "        vertical-align: top;\n",
       "    }\n",
       "\n",
       "    .dataframe thead th {\n",
       "        text-align: right;\n",
       "    }\n",
       "</style>\n",
       "<table border=\"1\" class=\"dataframe\">\n",
       "  <thead>\n",
       "    <tr style=\"text-align: right;\">\n",
       "      <th></th>\n",
       "      <th>name</th>\n",
       "      <th>platform</th>\n",
       "      <th>year_of_release</th>\n",
       "      <th>genre</th>\n",
       "      <th>na_sales</th>\n",
       "      <th>eu_sales</th>\n",
       "      <th>jp_sales</th>\n",
       "      <th>other_sales</th>\n",
       "      <th>critic_score</th>\n",
       "      <th>user_score</th>\n",
       "      <th>rating</th>\n",
       "    </tr>\n",
       "  </thead>\n",
       "  <tbody>\n",
       "    <tr>\n",
       "      <th>397</th>\n",
       "      <td>LEGO Batman: The Videogame</td>\n",
       "      <td>X360</td>\n",
       "      <td>2008.0</td>\n",
       "      <td>Action</td>\n",
       "      <td>2.04</td>\n",
       "      <td>1.02</td>\n",
       "      <td>0.0</td>\n",
       "      <td>0.32</td>\n",
       "      <td>76.0</td>\n",
       "      <td>7.9</td>\n",
       "      <td>E10+</td>\n",
       "    </tr>\n",
       "    <tr>\n",
       "      <th>456</th>\n",
       "      <td>LEGO Batman: The Videogame</td>\n",
       "      <td>Wii</td>\n",
       "      <td>2008.0</td>\n",
       "      <td>Action</td>\n",
       "      <td>1.80</td>\n",
       "      <td>0.97</td>\n",
       "      <td>0.0</td>\n",
       "      <td>0.29</td>\n",
       "      <td>74.0</td>\n",
       "      <td>7.9</td>\n",
       "      <td>E10+</td>\n",
       "    </tr>\n",
       "    <tr>\n",
       "      <th>460</th>\n",
       "      <td>LEGO Batman: The Videogame</td>\n",
       "      <td>DS</td>\n",
       "      <td>2008.0</td>\n",
       "      <td>Action</td>\n",
       "      <td>1.75</td>\n",
       "      <td>1.01</td>\n",
       "      <td>0.0</td>\n",
       "      <td>0.29</td>\n",
       "      <td>72.0</td>\n",
       "      <td>8</td>\n",
       "      <td>E10+</td>\n",
       "    </tr>\n",
       "    <tr>\n",
       "      <th>1519</th>\n",
       "      <td>LEGO Batman: The Videogame</td>\n",
       "      <td>PS3</td>\n",
       "      <td>2008.0</td>\n",
       "      <td>Action</td>\n",
       "      <td>0.72</td>\n",
       "      <td>0.39</td>\n",
       "      <td>0.0</td>\n",
       "      <td>0.19</td>\n",
       "      <td>75.0</td>\n",
       "      <td>7.7</td>\n",
       "      <td>E10+</td>\n",
       "    </tr>\n",
       "    <tr>\n",
       "      <th>1538</th>\n",
       "      <td>LEGO Batman: The Videogame</td>\n",
       "      <td>PSP</td>\n",
       "      <td>2008.0</td>\n",
       "      <td>Action</td>\n",
       "      <td>0.57</td>\n",
       "      <td>0.44</td>\n",
       "      <td>0.0</td>\n",
       "      <td>0.27</td>\n",
       "      <td>73.0</td>\n",
       "      <td>7.4</td>\n",
       "      <td>E10+</td>\n",
       "    </tr>\n",
       "    <tr>\n",
       "      <th>1553</th>\n",
       "      <td>LEGO Batman: The Videogame</td>\n",
       "      <td>PS2</td>\n",
       "      <td>2008.0</td>\n",
       "      <td>Action</td>\n",
       "      <td>0.72</td>\n",
       "      <td>0.03</td>\n",
       "      <td>0.0</td>\n",
       "      <td>0.52</td>\n",
       "      <td>77.0</td>\n",
       "      <td>8.9</td>\n",
       "      <td>E10+</td>\n",
       "    </tr>\n",
       "    <tr>\n",
       "      <th>12465</th>\n",
       "      <td>LEGO Batman: The Videogame</td>\n",
       "      <td>PC</td>\n",
       "      <td>2008.0</td>\n",
       "      <td>Action</td>\n",
       "      <td>0.02</td>\n",
       "      <td>0.03</td>\n",
       "      <td>0.0</td>\n",
       "      <td>0.01</td>\n",
       "      <td>80.0</td>\n",
       "      <td>7.8</td>\n",
       "      <td>E10+</td>\n",
       "    </tr>\n",
       "  </tbody>\n",
       "</table>\n",
       "</div>"
      ],
      "text/plain": [
       "                             name platform  year_of_release   genre  na_sales  \\\n",
       "397    LEGO Batman: The Videogame     X360           2008.0  Action      2.04   \n",
       "456    LEGO Batman: The Videogame      Wii           2008.0  Action      1.80   \n",
       "460    LEGO Batman: The Videogame       DS           2008.0  Action      1.75   \n",
       "1519   LEGO Batman: The Videogame      PS3           2008.0  Action      0.72   \n",
       "1538   LEGO Batman: The Videogame      PSP           2008.0  Action      0.57   \n",
       "1553   LEGO Batman: The Videogame      PS2           2008.0  Action      0.72   \n",
       "12465  LEGO Batman: The Videogame       PC           2008.0  Action      0.02   \n",
       "\n",
       "       eu_sales  jp_sales  other_sales  critic_score user_score rating  \n",
       "397        1.02       0.0         0.32          76.0        7.9   E10+  \n",
       "456        0.97       0.0         0.29          74.0        7.9   E10+  \n",
       "460        1.01       0.0         0.29          72.0          8   E10+  \n",
       "1519       0.39       0.0         0.19          75.0        7.7   E10+  \n",
       "1538       0.44       0.0         0.27          73.0        7.4   E10+  \n",
       "1553       0.03       0.0         0.52          77.0        8.9   E10+  \n",
       "12465      0.03       0.0         0.01          80.0        7.8   E10+  "
      ]
     },
     "execution_count": 12,
     "metadata": {},
     "output_type": "execute_result"
    }
   ],
   "source": [
    "#uso groupby para extraer el valor del primer lanzamiento para cada juego homónimo y usar fillna\n",
    "fill_by_name = games.groupby(['name'])['year_of_release'].transform('min')\n",
    "\n",
    "\n",
    "# usar fillna() con el método transform para ejecutar fill_by_name en cada fila que sea NaN\n",
    "games['year_of_release'] = games['year_of_release'].fillna(fill_by_name)\n",
    "games[games['name']=='LEGO Batman: The Videogame'] \n",
    "\n",
    "#prueba con un juego - OK"
   ]
  },
  {
   "cell_type": "code",
   "execution_count": 13,
   "metadata": {},
   "outputs": [
    {
     "data": {
      "text/plain": [
       "146"
      ]
     },
     "execution_count": 13,
     "metadata": {},
     "output_type": "execute_result"
    }
   ],
   "source": [
    "games['year_of_release'].isna().sum()"
   ]
  },
  {
   "cell_type": "markdown",
   "metadata": {},
   "source": [
    "**Observación:**\n",
    "\n",
    "Se logro reducir el número de valores ausentes de 269 a 146, los juegos restantes no cuentan con un homónimo de otra plataforma, por lo que debemos realizar un estimado para su año de lanzamiento."
   ]
  },
  {
   "cell_type": "code",
   "execution_count": 14,
   "metadata": {},
   "outputs": [
    {
     "name": "stdout",
     "output_type": "stream",
     "text": [
      "2013.0\n",
      "2016.0\n"
     ]
    }
   ],
   "source": [
    "# Evaluaremos el rango de lanzamiento para PS4 con el uso de min() y max()\n",
    "\n",
    "games_PS4 = games[games['platform']==\"PS4\"]\n",
    "print(games_PS4['year_of_release'].min())\n",
    "print(games_PS4['year_of_release'].max())"
   ]
  },
  {
   "cell_type": "code",
   "execution_count": 15,
   "metadata": {
    "scrolled": false
   },
   "outputs": [
    {
     "data": {
      "text/plain": [
       "platform\n",
       "2600    1982.0\n",
       "3DO     1995.0\n",
       "3DS     2013.0\n",
       "DC      2000.0\n",
       "DS      2008.0\n",
       "GB      1997.0\n",
       "GBA     2003.0\n",
       "GC      2003.0\n",
       "GEN     1993.0\n",
       "GG      1992.0\n",
       "N64     1999.0\n",
       "NES     1986.0\n",
       "NG      1994.0\n",
       "PC      2010.0\n",
       "PCFX    1996.0\n",
       "PS      1998.0\n",
       "PS2     2004.0\n",
       "PS3     2011.0\n",
       "PS4     2015.0\n",
       "PSP     2009.0\n",
       "PSV     2014.0\n",
       "SAT     1996.0\n",
       "SCD     1994.0\n",
       "SNES    1994.0\n",
       "TG16    1995.0\n",
       "WS      2000.0\n",
       "Wii     2009.0\n",
       "WiiU    2013.0\n",
       "X360    2010.0\n",
       "XB      2004.0\n",
       "XOne    2015.0\n",
       "Name: year_of_release, dtype: float64"
      ]
     },
     "execution_count": 15,
     "metadata": {},
     "output_type": "execute_result"
    }
   ],
   "source": [
    "# Uso de la mediana para estimar el año de lanzamiento de videojuegos restantes según su plataforma\n",
    "# Uso groupby por plataforma y caculo la mediana, uso round() para evitar decimales\n",
    "\n",
    "fill_by_platform = games.groupby(['platform'])['year_of_release'].median().round()\n",
    "fill_by_platform"
   ]
  },
  {
   "cell_type": "code",
   "execution_count": 16,
   "metadata": {
    "scrolled": true
   },
   "outputs": [
    {
     "data": {
      "text/html": [
       "<div>\n",
       "<style scoped>\n",
       "    .dataframe tbody tr th:only-of-type {\n",
       "        vertical-align: middle;\n",
       "    }\n",
       "\n",
       "    .dataframe tbody tr th {\n",
       "        vertical-align: top;\n",
       "    }\n",
       "\n",
       "    .dataframe thead th {\n",
       "        text-align: right;\n",
       "    }\n",
       "</style>\n",
       "<table border=\"1\" class=\"dataframe\">\n",
       "  <thead>\n",
       "    <tr style=\"text-align: right;\">\n",
       "      <th></th>\n",
       "      <th>name</th>\n",
       "      <th>platform</th>\n",
       "      <th>year_of_release</th>\n",
       "      <th>genre</th>\n",
       "      <th>na_sales</th>\n",
       "      <th>eu_sales</th>\n",
       "      <th>jp_sales</th>\n",
       "      <th>other_sales</th>\n",
       "      <th>critic_score</th>\n",
       "      <th>user_score</th>\n",
       "      <th>rating</th>\n",
       "    </tr>\n",
       "  </thead>\n",
       "  <tbody>\n",
       "    <tr>\n",
       "      <th>2210</th>\n",
       "      <td>EA Sports UFC 2</td>\n",
       "      <td>PS4</td>\n",
       "      <td>2016.0</td>\n",
       "      <td>Sports</td>\n",
       "      <td>0.29</td>\n",
       "      <td>0.49</td>\n",
       "      <td>0.00</td>\n",
       "      <td>0.15</td>\n",
       "      <td>79.0</td>\n",
       "      <td>6.2</td>\n",
       "      <td>T</td>\n",
       "    </tr>\n",
       "    <tr>\n",
       "      <th>5988</th>\n",
       "      <td>Deadpool</td>\n",
       "      <td>PS4</td>\n",
       "      <td>2015.0</td>\n",
       "      <td>Action</td>\n",
       "      <td>0.14</td>\n",
       "      <td>0.11</td>\n",
       "      <td>0.00</td>\n",
       "      <td>0.05</td>\n",
       "      <td>60.0</td>\n",
       "      <td>5.7</td>\n",
       "      <td>M</td>\n",
       "    </tr>\n",
       "    <tr>\n",
       "      <th>15011</th>\n",
       "      <td>Blade Arcus from Shining EX</td>\n",
       "      <td>PS4</td>\n",
       "      <td>2015.0</td>\n",
       "      <td>Fighting</td>\n",
       "      <td>0.00</td>\n",
       "      <td>0.00</td>\n",
       "      <td>0.02</td>\n",
       "      <td>0.00</td>\n",
       "      <td>NaN</td>\n",
       "      <td>NaN</td>\n",
       "      <td>NaN</td>\n",
       "    </tr>\n",
       "    <tr>\n",
       "      <th>3645</th>\n",
       "      <td>Resident Evil: Revelations 2</td>\n",
       "      <td>PS4</td>\n",
       "      <td>2015.0</td>\n",
       "      <td>Action</td>\n",
       "      <td>0.13</td>\n",
       "      <td>0.24</td>\n",
       "      <td>0.10</td>\n",
       "      <td>0.07</td>\n",
       "      <td>75.0</td>\n",
       "      <td>7.7</td>\n",
       "      <td>M</td>\n",
       "    </tr>\n",
       "    <tr>\n",
       "      <th>16134</th>\n",
       "      <td>Super Stardust Ultra VR</td>\n",
       "      <td>PS4</td>\n",
       "      <td>2016.0</td>\n",
       "      <td>Shooter</td>\n",
       "      <td>0.00</td>\n",
       "      <td>0.01</td>\n",
       "      <td>0.00</td>\n",
       "      <td>0.00</td>\n",
       "      <td>66.0</td>\n",
       "      <td>6.2</td>\n",
       "      <td>E10+</td>\n",
       "    </tr>\n",
       "    <tr>\n",
       "      <th>10252</th>\n",
       "      <td>Wasteland 2</td>\n",
       "      <td>PS4</td>\n",
       "      <td>2015.0</td>\n",
       "      <td>Role-Playing</td>\n",
       "      <td>0.08</td>\n",
       "      <td>0.00</td>\n",
       "      <td>0.02</td>\n",
       "      <td>0.02</td>\n",
       "      <td>NaN</td>\n",
       "      <td>NaN</td>\n",
       "      <td>NaN</td>\n",
       "    </tr>\n",
       "    <tr>\n",
       "      <th>2097</th>\n",
       "      <td>Final Fantasy Type-0</td>\n",
       "      <td>PS4</td>\n",
       "      <td>2015.0</td>\n",
       "      <td>Role-Playing</td>\n",
       "      <td>0.37</td>\n",
       "      <td>0.32</td>\n",
       "      <td>0.15</td>\n",
       "      <td>0.14</td>\n",
       "      <td>NaN</td>\n",
       "      <td>NaN</td>\n",
       "      <td>NaN</td>\n",
       "    </tr>\n",
       "    <tr>\n",
       "      <th>2600</th>\n",
       "      <td>Pro Evolution Soccer 2016</td>\n",
       "      <td>PS4</td>\n",
       "      <td>2015.0</td>\n",
       "      <td>Sports</td>\n",
       "      <td>0.13</td>\n",
       "      <td>0.42</td>\n",
       "      <td>0.13</td>\n",
       "      <td>0.10</td>\n",
       "      <td>87.0</td>\n",
       "      <td>7.1</td>\n",
       "      <td>E</td>\n",
       "    </tr>\n",
       "  </tbody>\n",
       "</table>\n",
       "</div>"
      ],
      "text/plain": [
       "                               name platform  year_of_release         genre  \\\n",
       "2210                EA Sports UFC 2      PS4           2016.0        Sports   \n",
       "5988                       Deadpool      PS4           2015.0        Action   \n",
       "15011   Blade Arcus from Shining EX      PS4           2015.0      Fighting   \n",
       "3645   Resident Evil: Revelations 2      PS4           2015.0        Action   \n",
       "16134       Super Stardust Ultra VR      PS4           2016.0       Shooter   \n",
       "10252                   Wasteland 2      PS4           2015.0  Role-Playing   \n",
       "2097           Final Fantasy Type-0      PS4           2015.0  Role-Playing   \n",
       "2600      Pro Evolution Soccer 2016      PS4           2015.0        Sports   \n",
       "\n",
       "       na_sales  eu_sales  jp_sales  other_sales  critic_score user_score  \\\n",
       "2210       0.29      0.49      0.00         0.15          79.0        6.2   \n",
       "5988       0.14      0.11      0.00         0.05          60.0        5.7   \n",
       "15011      0.00      0.00      0.02         0.00           NaN        NaN   \n",
       "3645       0.13      0.24      0.10         0.07          75.0        7.7   \n",
       "16134      0.00      0.01      0.00         0.00          66.0        6.2   \n",
       "10252      0.08      0.00      0.02         0.02           NaN        NaN   \n",
       "2097       0.37      0.32      0.15         0.14           NaN        NaN   \n",
       "2600       0.13      0.42      0.13         0.10          87.0        7.1   \n",
       "\n",
       "      rating  \n",
       "2210       T  \n",
       "5988       M  \n",
       "15011    NaN  \n",
       "3645       M  \n",
       "16134   E10+  \n",
       "10252    NaN  \n",
       "2097     NaN  \n",
       "2600       E  "
      ]
     },
     "execution_count": 16,
     "metadata": {},
     "output_type": "execute_result"
    }
   ],
   "source": [
    "# parece razonable que la mediana sea usada como criterio para realizar un estimado sobre los datos\n",
    "# de esta forma usamos los periodos de tiempo adecuados de cada consola como referencia\n",
    "\n",
    "#creo fill by plataform para usar posteriormente en el dataframe\n",
    "fill_by_platform = games.groupby(['platform'])['year_of_release'].transform('median').round()\n",
    "\n",
    "# usar fillna() con el método transform para ejecutar fill_by_platform en cada fila que sea NaN\n",
    "games['year_of_release'] = games['year_of_release'].fillna(fill_by_platform)\n",
    "\n",
    "# sample luego del fillna para la consola PS4\n",
    "games[games['platform']=='PS4'].sample(8, random_state=1)\n"
   ]
  },
  {
   "cell_type": "code",
   "execution_count": 17,
   "metadata": {},
   "outputs": [
    {
     "data": {
      "text/plain": [
       "0"
      ]
     },
     "execution_count": 17,
     "metadata": {},
     "output_type": "execute_result"
    }
   ],
   "source": [
    "# verificar que no hay valores ausentes\n",
    "games['year_of_release'].isna().sum()"
   ]
  },
  {
   "cell_type": "code",
   "execution_count": 18,
   "metadata": {},
   "outputs": [],
   "source": [
    "# convertir a int el año de lanzamiento\n",
    "games['year_of_release'] = games['year_of_release'].astype(int)"
   ]
  },
  {
   "cell_type": "markdown",
   "metadata": {},
   "source": [
    "**Observación:**\n",
    "\n",
    "**Otros juegos publicados para cada plataforma nos permiten tener un estimado del periodo de lanzamientos** y con esa información podemos complementar cada juego ausente restante y así poder continuar con nuestro análisis. "
   ]
  },
  {
   "cell_type": "markdown",
   "metadata": {},
   "source": [
    "**Columnas 'critic_score', 'user_score' y 'rating' :**"
   ]
  },
  {
   "cell_type": "code",
   "execution_count": 19,
   "metadata": {},
   "outputs": [
    {
     "data": {
      "text/plain": [
       "name                0.000000\n",
       "platform            0.000000\n",
       "year_of_release     0.000000\n",
       "genre               0.000000\n",
       "na_sales            0.000000\n",
       "eu_sales            0.000000\n",
       "jp_sales            0.000000\n",
       "other_sales         0.000000\n",
       "critic_score       51.316262\n",
       "user_score         40.086155\n",
       "rating             40.475051\n",
       "dtype: float64"
      ]
     },
     "execution_count": 19,
     "metadata": {},
     "output_type": "execute_result"
    }
   ],
   "source": [
    "# Revision de % de Na restante en otras columnas\n",
    "games.isna().sum() * 100 / len(games)"
   ]
  },
  {
   "cell_type": "code",
   "execution_count": 20,
   "metadata": {},
   "outputs": [
    {
     "name": "stdout",
     "output_type": "stream",
     "text": [
      "<class 'pandas.core.frame.DataFrame'>\n",
      "RangeIndex: 16714 entries, 0 to 16713\n",
      "Data columns (total 11 columns):\n",
      " #   Column           Non-Null Count  Dtype  \n",
      "---  ------           --------------  -----  \n",
      " 0   name             16714 non-null  object \n",
      " 1   platform         16714 non-null  object \n",
      " 2   year_of_release  16714 non-null  int64  \n",
      " 3   genre            16714 non-null  object \n",
      " 4   na_sales         16714 non-null  float64\n",
      " 5   eu_sales         16714 non-null  float64\n",
      " 6   jp_sales         16714 non-null  float64\n",
      " 7   other_sales      16714 non-null  float64\n",
      " 8   critic_score     8137 non-null   float64\n",
      " 9   user_score       10014 non-null  object \n",
      " 10  rating           9949 non-null   object \n",
      "dtypes: float64(5), int64(1), object(5)\n",
      "memory usage: 1.4+ MB\n"
     ]
    }
   ],
   "source": [
    "games.info()"
   ]
  },
  {
   "cell_type": "markdown",
   "metadata": {},
   "source": [
    "Existen valores ausentes considerables para las columnas de  'critic_score', 'user_score' y 'rating' "
   ]
  },
  {
   "cell_type": "code",
   "execution_count": 21,
   "metadata": {},
   "outputs": [
    {
     "data": {
      "text/html": [
       "<div>\n",
       "<style scoped>\n",
       "    .dataframe tbody tr th:only-of-type {\n",
       "        vertical-align: middle;\n",
       "    }\n",
       "\n",
       "    .dataframe tbody tr th {\n",
       "        vertical-align: top;\n",
       "    }\n",
       "\n",
       "    .dataframe thead th {\n",
       "        text-align: right;\n",
       "    }\n",
       "</style>\n",
       "<table border=\"1\" class=\"dataframe\">\n",
       "  <thead>\n",
       "    <tr style=\"text-align: right;\">\n",
       "      <th></th>\n",
       "      <th>name</th>\n",
       "      <th>platform</th>\n",
       "      <th>year_of_release</th>\n",
       "      <th>genre</th>\n",
       "      <th>na_sales</th>\n",
       "      <th>eu_sales</th>\n",
       "      <th>jp_sales</th>\n",
       "      <th>other_sales</th>\n",
       "      <th>critic_score</th>\n",
       "      <th>user_score</th>\n",
       "      <th>rating</th>\n",
       "    </tr>\n",
       "  </thead>\n",
       "  <tbody>\n",
       "    <tr>\n",
       "      <th>119</th>\n",
       "      <td>Zumba Fitness</td>\n",
       "      <td>Wii</td>\n",
       "      <td>2010</td>\n",
       "      <td>Sports</td>\n",
       "      <td>3.45</td>\n",
       "      <td>2.59</td>\n",
       "      <td>0.0</td>\n",
       "      <td>0.66</td>\n",
       "      <td>NaN</td>\n",
       "      <td>tbd</td>\n",
       "      <td>E</td>\n",
       "    </tr>\n",
       "    <tr>\n",
       "      <th>301</th>\n",
       "      <td>Namco Museum: 50th Anniversary</td>\n",
       "      <td>PS2</td>\n",
       "      <td>2005</td>\n",
       "      <td>Misc</td>\n",
       "      <td>2.08</td>\n",
       "      <td>1.35</td>\n",
       "      <td>0.0</td>\n",
       "      <td>0.54</td>\n",
       "      <td>61.0</td>\n",
       "      <td>tbd</td>\n",
       "      <td>E10+</td>\n",
       "    </tr>\n",
       "    <tr>\n",
       "      <th>520</th>\n",
       "      <td>Zumba Fitness 2</td>\n",
       "      <td>Wii</td>\n",
       "      <td>2011</td>\n",
       "      <td>Sports</td>\n",
       "      <td>1.51</td>\n",
       "      <td>1.03</td>\n",
       "      <td>0.0</td>\n",
       "      <td>0.27</td>\n",
       "      <td>NaN</td>\n",
       "      <td>tbd</td>\n",
       "      <td>T</td>\n",
       "    </tr>\n",
       "  </tbody>\n",
       "</table>\n",
       "</div>"
      ],
      "text/plain": [
       "                               name platform  year_of_release   genre  \\\n",
       "119                   Zumba Fitness      Wii             2010  Sports   \n",
       "301  Namco Museum: 50th Anniversary      PS2             2005    Misc   \n",
       "520                 Zumba Fitness 2      Wii             2011  Sports   \n",
       "\n",
       "     na_sales  eu_sales  jp_sales  other_sales  critic_score user_score rating  \n",
       "119      3.45      2.59       0.0         0.66           NaN        tbd      E  \n",
       "301      2.08      1.35       0.0         0.54          61.0        tbd   E10+  \n",
       "520      1.51      1.03       0.0         0.27           NaN        tbd      T  "
      ]
     },
     "execution_count": 21,
     "metadata": {},
     "output_type": "execute_result"
    }
   ],
   "source": [
    "#user_score está en formato str debido a ‘tbd’\n",
    "\n",
    "games[games['user_score'] == \"tbd\"].head(3)"
   ]
  },
  {
   "cell_type": "code",
   "execution_count": 22,
   "metadata": {},
   "outputs": [],
   "source": [
    "# tbd indica que el valor es ausente hasta que se determine, así que se puede reemplazar por NaN\n",
    "# es incluso probable que no vaya a existir ese valor en algunos casos y que nunca sean calificados\n",
    "\n",
    "#uso de replace para definir tbd como NaN\n",
    "games['user_score'] = games['user_score'].replace('tbd', 'NaN')"
   ]
  },
  {
   "cell_type": "code",
   "execution_count": 23,
   "metadata": {},
   "outputs": [],
   "source": [
    "#transformar la columna user_score a float para poder analizar posteriormente\n",
    "games['user_score'] = games['user_score'].astype(float)"
   ]
  },
  {
   "cell_type": "code",
   "execution_count": 24,
   "metadata": {
    "scrolled": true
   },
   "outputs": [
    {
     "data": {
      "text/html": [
       "<div>\n",
       "<style scoped>\n",
       "    .dataframe tbody tr th:only-of-type {\n",
       "        vertical-align: middle;\n",
       "    }\n",
       "\n",
       "    .dataframe tbody tr th {\n",
       "        vertical-align: top;\n",
       "    }\n",
       "\n",
       "    .dataframe thead th {\n",
       "        text-align: right;\n",
       "    }\n",
       "</style>\n",
       "<table border=\"1\" class=\"dataframe\">\n",
       "  <thead>\n",
       "    <tr style=\"text-align: right;\">\n",
       "      <th></th>\n",
       "      <th>name</th>\n",
       "      <th>platform</th>\n",
       "      <th>year_of_release</th>\n",
       "      <th>genre</th>\n",
       "      <th>na_sales</th>\n",
       "      <th>eu_sales</th>\n",
       "      <th>jp_sales</th>\n",
       "      <th>other_sales</th>\n",
       "      <th>critic_score</th>\n",
       "      <th>user_score</th>\n",
       "      <th>rating</th>\n",
       "    </tr>\n",
       "  </thead>\n",
       "  <tbody>\n",
       "    <tr>\n",
       "      <th>0</th>\n",
       "      <td>Wii Sports</td>\n",
       "      <td>Wii</td>\n",
       "      <td>2006</td>\n",
       "      <td>Sports</td>\n",
       "      <td>41.36</td>\n",
       "      <td>28.96</td>\n",
       "      <td>3.77</td>\n",
       "      <td>8.45</td>\n",
       "      <td>76.0</td>\n",
       "      <td>8.0</td>\n",
       "      <td>E</td>\n",
       "    </tr>\n",
       "    <tr>\n",
       "      <th>2</th>\n",
       "      <td>Mario Kart Wii</td>\n",
       "      <td>Wii</td>\n",
       "      <td>2008</td>\n",
       "      <td>Racing</td>\n",
       "      <td>15.68</td>\n",
       "      <td>12.76</td>\n",
       "      <td>3.79</td>\n",
       "      <td>3.29</td>\n",
       "      <td>82.0</td>\n",
       "      <td>8.3</td>\n",
       "      <td>E</td>\n",
       "    </tr>\n",
       "    <tr>\n",
       "      <th>3</th>\n",
       "      <td>Wii Sports Resort</td>\n",
       "      <td>Wii</td>\n",
       "      <td>2009</td>\n",
       "      <td>Sports</td>\n",
       "      <td>15.61</td>\n",
       "      <td>10.93</td>\n",
       "      <td>3.28</td>\n",
       "      <td>2.95</td>\n",
       "      <td>80.0</td>\n",
       "      <td>8.0</td>\n",
       "      <td>E</td>\n",
       "    </tr>\n",
       "    <tr>\n",
       "      <th>6</th>\n",
       "      <td>New Super Mario Bros.</td>\n",
       "      <td>DS</td>\n",
       "      <td>2006</td>\n",
       "      <td>Platform</td>\n",
       "      <td>11.28</td>\n",
       "      <td>9.14</td>\n",
       "      <td>6.50</td>\n",
       "      <td>2.88</td>\n",
       "      <td>89.0</td>\n",
       "      <td>8.5</td>\n",
       "      <td>E</td>\n",
       "    </tr>\n",
       "    <tr>\n",
       "      <th>7</th>\n",
       "      <td>Wii Play</td>\n",
       "      <td>Wii</td>\n",
       "      <td>2006</td>\n",
       "      <td>Misc</td>\n",
       "      <td>13.96</td>\n",
       "      <td>9.18</td>\n",
       "      <td>2.93</td>\n",
       "      <td>2.84</td>\n",
       "      <td>58.0</td>\n",
       "      <td>6.6</td>\n",
       "      <td>E</td>\n",
       "    </tr>\n",
       "    <tr>\n",
       "      <th>...</th>\n",
       "      <td>...</td>\n",
       "      <td>...</td>\n",
       "      <td>...</td>\n",
       "      <td>...</td>\n",
       "      <td>...</td>\n",
       "      <td>...</td>\n",
       "      <td>...</td>\n",
       "      <td>...</td>\n",
       "      <td>...</td>\n",
       "      <td>...</td>\n",
       "      <td>...</td>\n",
       "    </tr>\n",
       "    <tr>\n",
       "      <th>16672</th>\n",
       "      <td>Mortal Kombat: Deadly Alliance</td>\n",
       "      <td>GBA</td>\n",
       "      <td>2002</td>\n",
       "      <td>Fighting</td>\n",
       "      <td>0.01</td>\n",
       "      <td>0.00</td>\n",
       "      <td>0.00</td>\n",
       "      <td>0.00</td>\n",
       "      <td>81.0</td>\n",
       "      <td>8.8</td>\n",
       "      <td>M</td>\n",
       "    </tr>\n",
       "    <tr>\n",
       "      <th>16691</th>\n",
       "      <td>Metal Gear Solid V: Ground Zeroes</td>\n",
       "      <td>PC</td>\n",
       "      <td>2014</td>\n",
       "      <td>Action</td>\n",
       "      <td>0.00</td>\n",
       "      <td>0.01</td>\n",
       "      <td>0.00</td>\n",
       "      <td>0.00</td>\n",
       "      <td>80.0</td>\n",
       "      <td>7.6</td>\n",
       "      <td>M</td>\n",
       "    </tr>\n",
       "    <tr>\n",
       "      <th>16695</th>\n",
       "      <td>Breach</td>\n",
       "      <td>PC</td>\n",
       "      <td>2011</td>\n",
       "      <td>Shooter</td>\n",
       "      <td>0.01</td>\n",
       "      <td>0.00</td>\n",
       "      <td>0.00</td>\n",
       "      <td>0.00</td>\n",
       "      <td>61.0</td>\n",
       "      <td>5.8</td>\n",
       "      <td>T</td>\n",
       "    </tr>\n",
       "    <tr>\n",
       "      <th>16701</th>\n",
       "      <td>STORM: Frontline Nation</td>\n",
       "      <td>PC</td>\n",
       "      <td>2011</td>\n",
       "      <td>Strategy</td>\n",
       "      <td>0.00</td>\n",
       "      <td>0.01</td>\n",
       "      <td>0.00</td>\n",
       "      <td>0.00</td>\n",
       "      <td>60.0</td>\n",
       "      <td>7.2</td>\n",
       "      <td>E10+</td>\n",
       "    </tr>\n",
       "    <tr>\n",
       "      <th>16704</th>\n",
       "      <td>15 Days</td>\n",
       "      <td>PC</td>\n",
       "      <td>2009</td>\n",
       "      <td>Adventure</td>\n",
       "      <td>0.00</td>\n",
       "      <td>0.01</td>\n",
       "      <td>0.00</td>\n",
       "      <td>0.00</td>\n",
       "      <td>63.0</td>\n",
       "      <td>5.8</td>\n",
       "      <td>NaN</td>\n",
       "    </tr>\n",
       "  </tbody>\n",
       "</table>\n",
       "<p>7017 rows × 11 columns</p>\n",
       "</div>"
      ],
      "text/plain": [
       "                                    name platform  year_of_release      genre  \\\n",
       "0                             Wii Sports      Wii             2006     Sports   \n",
       "2                         Mario Kart Wii      Wii             2008     Racing   \n",
       "3                      Wii Sports Resort      Wii             2009     Sports   \n",
       "6                  New Super Mario Bros.       DS             2006   Platform   \n",
       "7                               Wii Play      Wii             2006       Misc   \n",
       "...                                  ...      ...              ...        ...   \n",
       "16672     Mortal Kombat: Deadly Alliance      GBA             2002   Fighting   \n",
       "16691  Metal Gear Solid V: Ground Zeroes       PC             2014     Action   \n",
       "16695                             Breach       PC             2011    Shooter   \n",
       "16701            STORM: Frontline Nation       PC             2011   Strategy   \n",
       "16704                            15 Days       PC             2009  Adventure   \n",
       "\n",
       "       na_sales  eu_sales  jp_sales  other_sales  critic_score  user_score  \\\n",
       "0         41.36     28.96      3.77         8.45          76.0         8.0   \n",
       "2         15.68     12.76      3.79         3.29          82.0         8.3   \n",
       "3         15.61     10.93      3.28         2.95          80.0         8.0   \n",
       "6         11.28      9.14      6.50         2.88          89.0         8.5   \n",
       "7         13.96      9.18      2.93         2.84          58.0         6.6   \n",
       "...         ...       ...       ...          ...           ...         ...   \n",
       "16672      0.01      0.00      0.00         0.00          81.0         8.8   \n",
       "16691      0.00      0.01      0.00         0.00          80.0         7.6   \n",
       "16695      0.01      0.00      0.00         0.00          61.0         5.8   \n",
       "16701      0.00      0.01      0.00         0.00          60.0         7.2   \n",
       "16704      0.00      0.01      0.00         0.00          63.0         5.8   \n",
       "\n",
       "      rating  \n",
       "0          E  \n",
       "2          E  \n",
       "3          E  \n",
       "6          E  \n",
       "7          E  \n",
       "...      ...  \n",
       "16672      M  \n",
       "16691      M  \n",
       "16695      T  \n",
       "16701   E10+  \n",
       "16704    NaN  \n",
       "\n",
       "[7017 rows x 11 columns]"
      ]
     },
     "execution_count": 24,
     "metadata": {},
     "output_type": "execute_result"
    }
   ],
   "source": [
    "#ahora analizaremos si podemos estimar los valores NaN\n",
    "#hay alguna relacion entre critic y user score?\n",
    "\n",
    "no_na_scores = games[(games['critic_score'].notna()) & (games['user_score'].notna())]\n",
    "no_na_scores "
   ]
  },
  {
   "cell_type": "code",
   "execution_count": 25,
   "metadata": {},
   "outputs": [
    {
     "name": "stdout",
     "output_type": "stream",
     "text": [
      "Corr critic/user: 0.5808778320767237\n"
     ]
    }
   ],
   "source": [
    "print('Corr critic/user:', no_na_scores['user_score'].corr(no_na_scores['critic_score']))"
   ]
  },
  {
   "cell_type": "markdown",
   "metadata": {},
   "source": [
    "**Observación:**\n",
    "\n",
    "**La correlación entre los valores de ambas columnas es moderada-fuerte** lo cual no nos permite hacer un estimado para user_score a partir de critic score que no afecte de forma significativa la precisión de los datos, **tampoco otras columnas permiten obtener información** para estimar los valores.\n",
    "\n",
    "No es posible eliminar los valores ausentes ya que representan una cantidad importante de cada columna, tampoco para rating, por lo cual **se conservarán los NaN para las columnas 'critic_score', 'user_score' y 'rating'**\n"
   ]
  },
  {
   "cell_type": "code",
   "execution_count": 26,
   "metadata": {
    "scrolled": false
   },
   "outputs": [
    {
     "name": "stdout",
     "output_type": "stream",
     "text": [
      "<class 'pandas.core.frame.DataFrame'>\n",
      "RangeIndex: 16714 entries, 0 to 16713\n",
      "Data columns (total 11 columns):\n",
      " #   Column           Non-Null Count  Dtype  \n",
      "---  ------           --------------  -----  \n",
      " 0   name             16714 non-null  object \n",
      " 1   platform         16714 non-null  object \n",
      " 2   year_of_release  16714 non-null  int64  \n",
      " 3   genre            16714 non-null  object \n",
      " 4   na_sales         16714 non-null  float64\n",
      " 5   eu_sales         16714 non-null  float64\n",
      " 6   jp_sales         16714 non-null  float64\n",
      " 7   other_sales      16714 non-null  float64\n",
      " 8   critic_score     8137 non-null   float64\n",
      " 9   user_score       7590 non-null   float64\n",
      " 10  rating           9949 non-null   object \n",
      "dtypes: float64(6), int64(1), object(4)\n",
      "memory usage: 1.4+ MB\n"
     ]
    }
   ],
   "source": [
    "# revisión final para los tipos de datos\n",
    "games.info()"
   ]
  },
  {
   "cell_type": "code",
   "execution_count": 27,
   "metadata": {},
   "outputs": [
    {
     "data": {
      "text/plain": [
       "0"
      ]
     },
     "execution_count": 27,
     "metadata": {},
     "output_type": "execute_result"
    }
   ],
   "source": [
    "games.duplicated().sum()"
   ]
  },
  {
   "cell_type": "markdown",
   "metadata": {},
   "source": [
    "Ahora contamos con todos los tipos de datos deseados para el análisis, además de confirmar que no hay duplicados."
   ]
  },
  {
   "cell_type": "markdown",
   "metadata": {},
   "source": [
    "**2.4 Calcula las ventas totales**  (la suma de las ventas en todas las regiones) para cada juego y coloca estos valores en una columna separada."
   ]
  },
  {
   "cell_type": "code",
   "execution_count": 28,
   "metadata": {
    "scrolled": true
   },
   "outputs": [
    {
     "data": {
      "text/html": [
       "<div>\n",
       "<style scoped>\n",
       "    .dataframe tbody tr th:only-of-type {\n",
       "        vertical-align: middle;\n",
       "    }\n",
       "\n",
       "    .dataframe tbody tr th {\n",
       "        vertical-align: top;\n",
       "    }\n",
       "\n",
       "    .dataframe thead th {\n",
       "        text-align: right;\n",
       "    }\n",
       "</style>\n",
       "<table border=\"1\" class=\"dataframe\">\n",
       "  <thead>\n",
       "    <tr style=\"text-align: right;\">\n",
       "      <th></th>\n",
       "      <th>name</th>\n",
       "      <th>platform</th>\n",
       "      <th>year_of_release</th>\n",
       "      <th>genre</th>\n",
       "      <th>na_sales</th>\n",
       "      <th>eu_sales</th>\n",
       "      <th>jp_sales</th>\n",
       "      <th>other_sales</th>\n",
       "      <th>critic_score</th>\n",
       "      <th>user_score</th>\n",
       "      <th>rating</th>\n",
       "      <th>total_sales</th>\n",
       "    </tr>\n",
       "  </thead>\n",
       "  <tbody>\n",
       "    <tr>\n",
       "      <th>0</th>\n",
       "      <td>Wii Sports</td>\n",
       "      <td>Wii</td>\n",
       "      <td>2006</td>\n",
       "      <td>Sports</td>\n",
       "      <td>41.36</td>\n",
       "      <td>28.96</td>\n",
       "      <td>3.77</td>\n",
       "      <td>8.45</td>\n",
       "      <td>76.0</td>\n",
       "      <td>8.0</td>\n",
       "      <td>E</td>\n",
       "      <td>82.54</td>\n",
       "    </tr>\n",
       "    <tr>\n",
       "      <th>1</th>\n",
       "      <td>Super Mario Bros.</td>\n",
       "      <td>NES</td>\n",
       "      <td>1985</td>\n",
       "      <td>Platform</td>\n",
       "      <td>29.08</td>\n",
       "      <td>3.58</td>\n",
       "      <td>6.81</td>\n",
       "      <td>0.77</td>\n",
       "      <td>NaN</td>\n",
       "      <td>NaN</td>\n",
       "      <td>NaN</td>\n",
       "      <td>40.24</td>\n",
       "    </tr>\n",
       "    <tr>\n",
       "      <th>2</th>\n",
       "      <td>Mario Kart Wii</td>\n",
       "      <td>Wii</td>\n",
       "      <td>2008</td>\n",
       "      <td>Racing</td>\n",
       "      <td>15.68</td>\n",
       "      <td>12.76</td>\n",
       "      <td>3.79</td>\n",
       "      <td>3.29</td>\n",
       "      <td>82.0</td>\n",
       "      <td>8.3</td>\n",
       "      <td>E</td>\n",
       "      <td>35.52</td>\n",
       "    </tr>\n",
       "    <tr>\n",
       "      <th>3</th>\n",
       "      <td>Wii Sports Resort</td>\n",
       "      <td>Wii</td>\n",
       "      <td>2009</td>\n",
       "      <td>Sports</td>\n",
       "      <td>15.61</td>\n",
       "      <td>10.93</td>\n",
       "      <td>3.28</td>\n",
       "      <td>2.95</td>\n",
       "      <td>80.0</td>\n",
       "      <td>8.0</td>\n",
       "      <td>E</td>\n",
       "      <td>32.77</td>\n",
       "    </tr>\n",
       "    <tr>\n",
       "      <th>4</th>\n",
       "      <td>Pokemon Red/Pokemon Blue</td>\n",
       "      <td>GB</td>\n",
       "      <td>1996</td>\n",
       "      <td>Role-Playing</td>\n",
       "      <td>11.27</td>\n",
       "      <td>8.89</td>\n",
       "      <td>10.22</td>\n",
       "      <td>1.00</td>\n",
       "      <td>NaN</td>\n",
       "      <td>NaN</td>\n",
       "      <td>NaN</td>\n",
       "      <td>31.38</td>\n",
       "    </tr>\n",
       "  </tbody>\n",
       "</table>\n",
       "</div>"
      ],
      "text/plain": [
       "                       name platform  year_of_release         genre  na_sales  \\\n",
       "0                Wii Sports      Wii             2006        Sports     41.36   \n",
       "1         Super Mario Bros.      NES             1985      Platform     29.08   \n",
       "2            Mario Kart Wii      Wii             2008        Racing     15.68   \n",
       "3         Wii Sports Resort      Wii             2009        Sports     15.61   \n",
       "4  Pokemon Red/Pokemon Blue       GB             1996  Role-Playing     11.27   \n",
       "\n",
       "   eu_sales  jp_sales  other_sales  critic_score  user_score rating  \\\n",
       "0     28.96      3.77         8.45          76.0         8.0      E   \n",
       "1      3.58      6.81         0.77           NaN         NaN    NaN   \n",
       "2     12.76      3.79         3.29          82.0         8.3      E   \n",
       "3     10.93      3.28         2.95          80.0         8.0      E   \n",
       "4      8.89     10.22         1.00           NaN         NaN    NaN   \n",
       "\n",
       "   total_sales  \n",
       "0        82.54  \n",
       "1        40.24  \n",
       "2        35.52  \n",
       "3        32.77  \n",
       "4        31.38  "
      ]
     },
     "execution_count": 28,
     "metadata": {},
     "output_type": "execute_result"
    }
   ],
   "source": [
    "#creo una nueva columna con la suma de cada región \n",
    "games['total_sales'] = games['na_sales'] + games['eu_sales'] + games['jp_sales'] + games['other_sales']\n",
    "games.head()"
   ]
  },
  {
   "cell_type": "markdown",
   "metadata": {},
   "source": [
    "<div class=\"alert alert-block alert-success\">\n",
    "<b>Comentario del revisor:</b> <a class=\"tocSkip\"></a>\n",
    "    \n",
    "Hola, Sebastián! Muy buen trabajo en la sección, ajustaste los nombres de las columnas a minúsculas con el uso de la función str.lower(), cambiaste el tipo de variable de dos de las variables de la base de datos, consideraste ajustar los valores ausentes de las variables identificadas de score y muy buen trabajo con la suma de todas las ventas. \n",
    "    \n",
    "   \n",
    "\n",
    "</div>"
   ]
  },
  {
   "cell_type": "markdown",
   "metadata": {},
   "source": [
    "**3. Analizar los Datos**"
   ]
  },
  {
   "cell_type": "markdown",
   "metadata": {},
   "source": [
    "3.1 Mira cuántos juegos fueron lanzados en diferentes años. ¿Son significativos los datos de cada período?"
   ]
  },
  {
   "cell_type": "code",
   "execution_count": 29,
   "metadata": {},
   "outputs": [
    {
     "data": {
      "image/png": "[encoded data removed]",
      "text/plain": [
       "<Figure size 864x432 with 1 Axes>"
      ]
     },
     "metadata": {
      "needs_background": "light"
     },
     "output_type": "display_data"
    }
   ],
   "source": [
    "#uso groupby y count para analizar cuantos juegos fueron lanzados en cada año \n",
    "\n",
    "games_year = games.groupby(by=\"year_of_release\")['name'].count() \n",
    "\n",
    "#creo una gráfica de barras para juegos por año\n",
    "games_year.plot(kind='bar', \n",
    "                title= \"Juegos lanzados por año\",\n",
    "                figsize=(12,6),\n",
    "                xlabel = \"Año\",\n",
    "                ylabel = \"Titulos\",\n",
    "                color = '#4169e1'\n",
    "               )\n",
    "plt.show()"
   ]
  },
  {
   "cell_type": "markdown",
   "metadata": {},
   "source": [
    "**Observaciones**:\n",
    "\n",
    " 1. Antes de los años 90' era muy costoso crear y comprar videojuegos, luego esta tecnología se masifico y se volvió más eficiente por lo que nuevos proveedores y clientes entraron al mercado.\n",
    " \n",
    " \n",
    " 2. En el periodo comprendido **Entre 2002 y 2011 ocurrió la mayor cantidad de ventas**. Explicado por una nueva generación de consolas como la PS2 y Xbox 360 aprovechando la creciente demanda.\n",
    " \n",
    " \n",
    " 3. **Luego de 2012 existe una disminucion** en la cantidad de juegos vendidos y **se sitúa en un rango entre 500 y 600 títulos al año**, se puede pensar que la incorporación de juegos multi plataforma, opciones online y ventas dentro de los mismos jugos han hecho que las empresas se enfoquen en estos tipos de ingresos en un numero determinado de juegos exitosos.\n"
   ]
  },
  {
   "cell_type": "markdown",
   "metadata": {},
   "source": [
    "3.2 Observa cómo varían las ventas de una plataforma a otra. Elige las plataformas con las mayores ventas totales y construye una distribución basada en los datos de cada año."
   ]
  },
  {
   "cell_type": "code",
   "execution_count": 30,
   "metadata": {},
   "outputs": [
    {
     "data": {
      "text/plain": [
       "platform\n",
       "PS2     2161\n",
       "DS      2151\n",
       "PS3     1331\n",
       "Wii     1320\n",
       "X360    1262\n",
       "Name: total_sales, dtype: int64"
      ]
     },
     "execution_count": 30,
     "metadata": {},
     "output_type": "execute_result"
    }
   ],
   "source": [
    "#uso groupby en platform para analizar las ventas \n",
    "\n",
    "platform_sales = games.groupby(by=['platform'])['total_sales'].count()\n",
    "platform_sales.sort_values(ascending=False).head(5)"
   ]
  },
  {
   "cell_type": "code",
   "execution_count": 31,
   "metadata": {
    "scrolled": false
   },
   "outputs": [],
   "source": [
    "# creo una lista de las 5 plataformas con más ventas\n",
    "# filtro el dataframe por las plataformas más exitosas\n",
    "\n",
    "top_platform = ['PS2', 'DS', 'PS3', 'Wii', 'X360']               \n",
    "top_platform_sales = games[games['platform'].isin(top_platform)] \n",
    "\n",
    "top_platform_sales.reset_index(drop=True, inplace = True)"
   ]
  },
  {
   "cell_type": "code",
   "execution_count": 32,
   "metadata": {
    "scrolled": false
   },
   "outputs": [
    {
     "data": {
      "image/png": "[encoded data removed]",
      "text/plain": [
       "<Figure size 864x432 with 1 Axes>"
      ]
     },
     "metadata": {
      "needs_background": "light"
     },
     "output_type": "display_data"
    }
   ],
   "source": [
    "# creo una pivot table con los datos de ventas para el top de plataformas\n",
    "# uso como index year para graficar vs las ventas totales\n",
    "\n",
    "top_platform_sales_chart= top_platform_sales.pivot_table(index = ['year_of_release'],\n",
    "                              columns = 'platform',                      \n",
    "                              values = 'total_sales',\n",
    "                              aggfunc = 'sum',                  \n",
    "                              )\n",
    "\n",
    "# creo una gráfica para la distribución de ventas por cada plataforma\n",
    "top_platform_sales_chart.plot(\n",
    "                        title='Plataformas con las mayores ventas totales', \n",
    "                        xlabel='Año', \n",
    "                        ylabel='Millones USD', \n",
    "                        figsize=[12, 6],\n",
    "                        rot=60,\n",
    "                        xlim = (1995,2017),\n",
    "                        color = {'PS2':\"blue\", 'DS': '#c4aead','PS3': 'Red', 'Wii': '#00ced1', 'X360': \"#32cd32\" },\n",
    "                        alpha = 0.75\n",
    "                        )\n",
    "\n",
    "plt.show()"
   ]
  },
  {
   "cell_type": "markdown",
   "metadata": {},
   "source": [
    "**Observaciones**:\n",
    " 1. Las consolas con más ventas hasta 2016 son **'PS2', 'DS', 'PS3', 'Wii', 'X360'** en este orden.\n",
    " \n",
    " \n",
    " 2. **Existe una gran similitud en las ventas para periodos de tiempo específicos**, como el PS3 y el Xbox 360, con una distribución de ventas similar y Nintendo con dos plataformas simultaneas el DS y la Wii.\n",
    " \n",
    " \n",
    " 3. Podemos ver los ciclos de las consolas con **la transición entere PS2 y PS3, una vez sale la nueva generación las ventas de la anterior suelen disminuir en un periodo de transición** que se analizara a continuación.\n"
   ]
  },
  {
   "cell_type": "markdown",
   "metadata": {},
   "source": [
    "3.3 Busca las plataformas que solían ser populares pero que ahora no tienen ventas. ¿Cuánto tardan generalmente las nuevas plataformas en aparecer y las antiguas en desaparecer?"
   ]
  },
  {
   "cell_type": "code",
   "execution_count": 33,
   "metadata": {},
   "outputs": [
    {
     "data": {
      "text/plain": [
       "array(['Wii', 'NES', 'GB', 'DS', 'X360', 'PS3', 'PS2', 'SNES', 'GBA',\n",
       "       'PS4', '3DS', 'N64', 'PS', 'XB', 'PC', '2600', 'PSP', 'XOne',\n",
       "       'WiiU', 'GC', 'GEN', 'DC', 'PSV', 'SAT', 'SCD', 'WS', 'NG', 'TG16',\n",
       "       '3DO', 'GG', 'PCFX'], dtype=object)"
      ]
     },
     "execution_count": 33,
     "metadata": {},
     "output_type": "execute_result"
    }
   ],
   "source": [
    "games['platform'].unique()"
   ]
  },
  {
   "cell_type": "code",
   "execution_count": 34,
   "metadata": {},
   "outputs": [
    {
     "data": {
      "image/png": "[encoded data removed]",
      "text/plain": [
       "<Figure size 864x432 with 1 Axes>"
      ]
     },
     "metadata": {
      "needs_background": "light"
     },
     "output_type": "display_data"
    }
   ],
   "source": [
    "# analizare el comportamiento de PlayStation y  Xbox en diferentes generaciones\n",
    "cycle_platform = ['PS2', 'PS3', 'PS4', 'XB', 'X360', 'XOne']\n",
    "\n",
    "# Filtro el data frame por las plataformas seleccionadas para analizar su estacionalidad\n",
    "cycle_platform_sales = games[games['platform'].isin(cycle_platform)]\n",
    "cycle_platform_sales.reset_index(drop=True, inplace = True)\n",
    "\n",
    "\n",
    "#creo una pívot table con los datos de ventas de plataformas PS y XB para graficar \n",
    "cycle_platform_chart= cycle_platform_sales.pivot_table(index = ['year_of_release'],\n",
    "                              columns = 'platform',                      \n",
    "                              values = 'total_sales',\n",
    "                              aggfunc = 'sum',                  \n",
    "                              )\n",
    "\n",
    "# creo una gráfica para la distribución de ventas por cada consola\n",
    "cycle_platform_chart.plot(\n",
    "                        title='¿Cuánto tardan generalmente las nuevas plataformas en aparecer y las antiguas en desaparecer?', \n",
    "                        xlabel='Año', \n",
    "                        ylabel='Ventas Totales Millones USD', \n",
    "                        figsize=[12, 6],\n",
    "                        rot=60,\n",
    "                        xlim = (1995,2017),\n",
    "                        color = {'PS2':\"blue\", 'PS3': '#483d8b','PS4': '#2a52be', 'XB': '#228b22', 'X360': \"#32cd32\", 'XOne': \"#3cb371\",}\n",
    "                        )\n",
    "\n",
    "plt.show()"
   ]
  },
  {
   "cell_type": "markdown",
   "metadata": {},
   "source": [
    "**Observaciones**:\n",
    "\n",
    "1. Para dos de las plataformas con más ventas (PlayStation: Azul y Xbox: Verde) los **ciclos de una nueva generación de consolas se ubican en el rango 7 a 10 años.**\n",
    " \n",
    " \n",
    " 2. Los **primeros 3 años son de crecimiento**, luego existe un **periodo de maduración donde se estancan las ventas (1 a 2 años)** y por último cuando la nueva generación es anunciada **las ventas disminuyen hasta detenerse en 3 años.**\n"
   ]
  },
  {
   "cell_type": "markdown",
   "metadata": {},
   "source": [
    "3.4 Determina para qué período debes tomar datos. Para hacerlo mira tus respuestas a las preguntas anteriores. Los datos deberían permitirte construir un modelo para 2017."
   ]
  },
  {
   "cell_type": "markdown",
   "metadata": {},
   "source": [
    "**Periodo a analizar**\n",
    "\n",
    "**Según el analisis anterior se construira el modelo para 2017 con datos desde el 2011 hasta el 2016, comprendiendo los ultimos 5 años de infromacion.**\n",
    "\n",
    "Los datos anteriores a este periodo no son relvantes para el mercado actual y por ende no se tomaran en cuenta por que pertenecen a plataformas que ya terminaron su ciclo de vida o estan por hacerlo.\n"
   ]
  },
  {
   "cell_type": "markdown",
   "metadata": {},
   "source": [
    "3.5 Trabaja solo con los datos que consideras relevantes. Ignora los datos de años anteriores."
   ]
  },
  {
   "cell_type": "code",
   "execution_count": 35,
   "metadata": {},
   "outputs": [],
   "source": [
    "# creo model_data para trabajar solo con los datos recientes (5 años)\n",
    "model_data = games[(games['year_of_release']>=2011)]"
   ]
  },
  {
   "cell_type": "markdown",
   "metadata": {},
   "source": [
    "3.6 ¿Qué plataformas son líderes en ventas? ¿Cuáles crecen y cuáles se reducen? Elige varias plataformas potencialmente rentables."
   ]
  },
  {
   "cell_type": "code",
   "execution_count": 36,
   "metadata": {},
   "outputs": [
    {
     "data": {
      "text/plain": [
       "platform\n",
       "PS3     452.15\n",
       "X360    382.75\n",
       "PS4     314.14\n",
       "3DS     258.68\n",
       "XOne    159.32\n",
       "PC       98.67\n",
       "Wii      96.39\n",
       "WiiU     82.19\n",
       "PSV      54.07\n",
       "DS       39.54\n",
       "Name: total_sales, dtype: float64"
      ]
     },
     "execution_count": 36,
     "metadata": {},
     "output_type": "execute_result"
    }
   ],
   "source": [
    "# uso groupby para encontrar las plataformas más rentables en los últimos años\n",
    "# uso sort_values y luego head() para extraer las más importantes\n",
    "\n",
    "top_platforms = model_data.groupby(by='platform')['total_sales'].sum().sort_values(ascending = False).head(10)\n",
    "top_platforms"
   ]
  },
  {
   "cell_type": "code",
   "execution_count": 37,
   "metadata": {},
   "outputs": [
    {
     "data": {
      "image/png": "[encoded data removed]",
      "text/plain": [
       "<Figure size 864x432 with 1 Axes>"
      ]
     },
     "metadata": {
      "needs_background": "light"
     },
     "output_type": "display_data"
    }
   ],
   "source": [
    "# Selecionare las plataformas con mayor potencial descartando las versiones antiguas \n",
    "profitable_platform = ['PS4','XOne','WiiU', 'PC', 'PSV']\n",
    "\n",
    "#Filtro el data frame por las plataformas potenciales\n",
    "profitable_platform = model_data[model_data['platform'].isin(profitable_platform)]\n",
    "profitable_platform.reset_index(drop=True, inplace = True)\n",
    "\n",
    "\n",
    "#creo una pívot table con los datos de ventas para plataformas potenciales\n",
    "profitable_platform_chart= profitable_platform.pivot_table(index = ['year_of_release'],\n",
    "                              columns = 'platform',                      \n",
    "                              values = 'total_sales',\n",
    "                              aggfunc = 'sum',                  \n",
    "                              )\n",
    "\n",
    "# creo una gráfica para la distribución de ventas para plataformas potenciales\n",
    "profitable_platform_chart.plot(kind = 'bar',\n",
    "                        title='¿Qué plataformas son líderes en ventas? ¿Cuáles crecen y cuáles se reducen?', \n",
    "                        xlabel='Año', \n",
    "                        ylabel='Millones USD', \n",
    "                        figsize=[12, 6],\n",
    "                        rot=60,\n",
    "                        xlim = (1995,2017),\n",
    "                        color = {'PS4':\"#4169e1\", 'XOne': '#228b22','WiiU': '#00ced1', 'PC': '#ff8c00', 'PSV': \"#a52a2a\"}\n",
    "                        )\n",
    "plt.show()"
   ]
  },
  {
   "cell_type": "markdown",
   "metadata": {},
   "source": [
    "**Observaciones**:\n",
    "1. **La plataforma potencial con mayor crecimiento es la PS4 seguida por la Xbox One** ambas con año de lanzamiento 2013. Son las únicas que han crecido en ventas de juegos año a año.\n",
    "\n",
    " \n",
    "2. Las otras plataformas **PC, WiiU y PSV han disminuido en ventas.** Es probable que muchos usuarios de estas plataformas se hayan interesado por las opciones ofrecidas por otras platafromas.\n",
    "\n",
    "\n",
    "3. **El año 2016 está incompleto** y es normal que los valores sean menores a 2015 hasta que se cierre el año, sin embargo es claro que **la tendencia de PS4 y Xbox se mantendrá para 2016**.\n"
   ]
  },
  {
   "cell_type": "markdown",
   "metadata": {},
   "source": [
    "3.7 Crea un diagrama de caja para las ventas globales de todos los juegos, desglosados por plataforma. ¿Son significativas las diferencias en las ventas? ¿Qué sucede con las ventas promedio en varias plataformas? Describe tus hallazgos."
   ]
  },
  {
   "cell_type": "code",
   "execution_count": 38,
   "metadata": {},
   "outputs": [
    {
     "data": {
      "image/png": "[encoded data removed]",
      "text/plain": [
       "<Figure size 864x432 with 1 Axes>"
      ]
     },
     "metadata": {
      "needs_background": "light"
     },
     "output_type": "display_data"
    }
   ],
   "source": [
    "# uso groupby para plataforma y nombre con las ventas totales\n",
    "box = model_data.groupby(['platform','name'])['total_sales'].sum().reset_index()\n",
    "\n",
    "#creo una grafica vacia\n",
    "plt.figure(figsize=(12,6))\n",
    "\n",
    "#defino el orden de las cajas\n",
    "order_1 = model_data['platform'].unique()\n",
    "\n",
    "#uso seaborn para crear el box con mayor facilidad\n",
    "\n",
    "sns.boxplot(data = box,                                       \n",
    "            x='platform',\n",
    "            y='total_sales', \n",
    "            showfliers=False,                                     \n",
    "            order = order_1,                                       # defino el orden deseado                                     \n",
    "            ).set_title('Diagrama de caja para las ventas globales últimos 5 años')\n",
    "            \n",
    "plt.xlabel('Platforma')                                           # nombre eje x                                     \n",
    "plt.ylabel('Millones USD')                                        # nombre eje y  \n",
    "plt.show()"
   ]
  },
  {
   "cell_type": "code",
   "execution_count": 39,
   "metadata": {},
   "outputs": [
    {
     "data": {
      "text/html": [
       "<div>\n",
       "<style scoped>\n",
       "    .dataframe tbody tr th:only-of-type {\n",
       "        vertical-align: middle;\n",
       "    }\n",
       "\n",
       "    .dataframe tbody tr th {\n",
       "        vertical-align: top;\n",
       "    }\n",
       "\n",
       "    .dataframe thead tr th {\n",
       "        text-align: left;\n",
       "    }\n",
       "\n",
       "    .dataframe thead tr:last-of-type th {\n",
       "        text-align: right;\n",
       "    }\n",
       "</style>\n",
       "<table border=\"1\" class=\"dataframe\">\n",
       "  <thead>\n",
       "    <tr>\n",
       "      <th></th>\n",
       "      <th>mean</th>\n",
       "      <th>var</th>\n",
       "      <th>sum</th>\n",
       "    </tr>\n",
       "    <tr>\n",
       "      <th></th>\n",
       "      <th>total_sales</th>\n",
       "      <th>total_sales</th>\n",
       "      <th>total_sales</th>\n",
       "    </tr>\n",
       "    <tr>\n",
       "      <th>platform</th>\n",
       "      <th></th>\n",
       "      <th></th>\n",
       "      <th></th>\n",
       "    </tr>\n",
       "  </thead>\n",
       "  <tbody>\n",
       "    <tr>\n",
       "      <th>PS3</th>\n",
       "      <td>0.624517</td>\n",
       "      <td>2.065339</td>\n",
       "      <td>452.15</td>\n",
       "    </tr>\n",
       "    <tr>\n",
       "      <th>X360</th>\n",
       "      <td>0.756423</td>\n",
       "      <td>2.643156</td>\n",
       "      <td>382.75</td>\n",
       "    </tr>\n",
       "    <tr>\n",
       "      <th>PS4</th>\n",
       "      <td>0.801378</td>\n",
       "      <td>2.590350</td>\n",
       "      <td>314.14</td>\n",
       "    </tr>\n",
       "    <tr>\n",
       "      <th>3DS</th>\n",
       "      <td>0.499382</td>\n",
       "      <td>2.054807</td>\n",
       "      <td>258.68</td>\n",
       "    </tr>\n",
       "    <tr>\n",
       "      <th>XOne</th>\n",
       "      <td>0.645020</td>\n",
       "      <td>1.073584</td>\n",
       "      <td>159.32</td>\n",
       "    </tr>\n",
       "    <tr>\n",
       "      <th>PC</th>\n",
       "      <td>0.249167</td>\n",
       "      <td>0.251648</td>\n",
       "      <td>98.67</td>\n",
       "    </tr>\n",
       "    <tr>\n",
       "      <th>Wii</th>\n",
       "      <td>0.479552</td>\n",
       "      <td>1.104842</td>\n",
       "      <td>96.39</td>\n",
       "    </tr>\n",
       "    <tr>\n",
       "      <th>WiiU</th>\n",
       "      <td>0.559116</td>\n",
       "      <td>1.121133</td>\n",
       "      <td>82.19</td>\n",
       "    </tr>\n",
       "    <tr>\n",
       "      <th>PSV</th>\n",
       "      <td>0.125744</td>\n",
       "      <td>0.045026</td>\n",
       "      <td>54.07</td>\n",
       "    </tr>\n",
       "    <tr>\n",
       "      <th>DS</th>\n",
       "      <td>0.211444</td>\n",
       "      <td>0.399987</td>\n",
       "      <td>39.54</td>\n",
       "    </tr>\n",
       "  </tbody>\n",
       "</table>\n",
       "</div>"
      ],
      "text/plain": [
       "                mean         var         sum\n",
       "         total_sales total_sales total_sales\n",
       "platform                                    \n",
       "PS3         0.624517    2.065339      452.15\n",
       "X360        0.756423    2.643156      382.75\n",
       "PS4         0.801378    2.590350      314.14\n",
       "3DS         0.499382    2.054807      258.68\n",
       "XOne        0.645020    1.073584      159.32\n",
       "PC          0.249167    0.251648       98.67\n",
       "Wii         0.479552    1.104842       96.39\n",
       "WiiU        0.559116    1.121133       82.19\n",
       "PSV         0.125744    0.045026       54.07\n",
       "DS          0.211444    0.399987       39.54"
      ]
     },
     "execution_count": 39,
     "metadata": {},
     "output_type": "execute_result"
    }
   ],
   "source": [
    "# creo una pivot table con mean, var, y total para interpretar los resultados\n",
    "model_data.pivot_table(index= 'platform', values = \"total_sales\", aggfunc =['mean', 'var','sum']).sort_values(('sum',\"total_sales\"), ascending = False).head(10)\n"
   ]
  },
  {
   "cell_type": "markdown",
   "metadata": {},
   "source": [
    "**Observaciones**:\n",
    "\n",
    "1. **PS4 tiene el mayor promedio de ventas 0.8M USD**, para las 5 plataformas con más ventas el promedio se ubica entre 0.6M y 0.8M en los últimos 5 años.\n",
    "\n",
    "\n",
    "2. **Similitud en competidores:** PS4 y Xbox One tienen rangos intercuartílicos similares.\n",
    "\n",
    "\n",
    "3. **Los valores atípicos nos indican que algunos juegos son muy exitosos** en ventas vs el promedio de su misma plataforma.\n",
    "\n"
   ]
  },
  {
   "cell_type": "markdown",
   "metadata": {},
   "source": [
    "3.8 Mira cómo las reseñas de usuarios y profesionales afectan las ventas de una plataforma popular (tu elección). Crea un gráfico de dispersión y calcula la correlación entre las reseñas y las ventas. Saca conclusiones."
   ]
  },
  {
   "cell_type": "code",
   "execution_count": 40,
   "metadata": {},
   "outputs": [
    {
     "data": {
      "image/png": "[encoded data removed]",
      "text/plain": [
       "<Figure size 864x432 with 1 Axes>"
      ]
     },
     "metadata": {
      "needs_background": "light"
     },
     "output_type": "display_data"
    },
    {
     "data": {
      "image/png": "[encoded data removed]",
      "text/plain": [
       "<Figure size 864x432 with 1 Axes>"
      ]
     },
     "metadata": {
      "needs_background": "light"
     },
     "output_type": "display_data"
    }
   ],
   "source": [
    "# seleccionare PS4 para analizar las críticas de usuarios y profesionales\n",
    "PS4 = model_data[model_data['platform'] == 'PS4' ]\n",
    "\n",
    "# creo el grafico de dispersión de ventas vs critic score\n",
    "PS4.plot(kind= 'scatter',\n",
    "         x=['critic_score'],\n",
    "         y='total_sales',\n",
    "         title = \"Puntuación crítica y ventas totales PS4\",\n",
    "         figsize = (12,6),\n",
    "         xlabel = 'Puntuación crítica',\n",
    "         ylabel = 'Millones USD',\n",
    "         color = \"#4169e1\",\n",
    "         alpha = 0.60\n",
    "         \n",
    "        )\n",
    "\n",
    "# creo el grafico de dispersión de ventas vs user score\n",
    "PS4.plot(kind= 'scatter',\n",
    "         x=['user_score'],\n",
    "         y='total_sales',\n",
    "         title = \"Puntuación usuarios y ventas totales PS4\",\n",
    "         figsize = (12,6),\n",
    "         xlabel = 'Puntuación usuarios',\n",
    "         ylabel = 'Millones USD',\n",
    "         color = \"#4169e1\",\n",
    "         alpha = 0.60\n",
    "        )\n",
    "plt.show()"
   ]
  },
  {
   "cell_type": "code",
   "execution_count": 41,
   "metadata": {},
   "outputs": [
    {
     "name": "stdout",
     "output_type": "stream",
     "text": [
      "Corr PS4 Critica : 0.406567902061781\n",
      "Corr PS4 Usuarios : -0.031957110204556424\n"
     ]
    }
   ],
   "source": [
    "# analizo la correlación entre ambas columnas y las ventas totales\n",
    "\n",
    "print('Corr PS4 Critica :', PS4['total_sales'].corr(PS4['critic_score']))\n",
    "print('Corr PS4 Usuarios :',PS4['total_sales'].corr(PS4['user_score']))"
   ]
  },
  {
   "cell_type": "markdown",
   "metadata": {},
   "source": [
    "**Conclusión PS4** \n",
    "\n",
    "**La correlación entre la puntuación de la crítica y las ventas es débil 0.41**, sin embargo, en el grafico podemos evidenciar que las ventas suelen ser más favorables cuando la puntuación es 70 o más.\n",
    "\n",
    "**No hay correlación entre la puntuación de usuarios y las ventas totales** se analizarán los datos en otras plataformas.\n"
   ]
  },
  {
   "cell_type": "markdown",
   "metadata": {},
   "source": [
    "3.9 Teniendo en cuenta tus conclusiones compara las ventas de los mismos juegos en otras plataformas."
   ]
  },
  {
   "cell_type": "code",
   "execution_count": 42,
   "metadata": {},
   "outputs": [],
   "source": [
    "# juegos de PS4 para filtrar otras plataformas con esos mismos títulos con isin\n",
    "other_platforms = model_data[model_data['name'].isin(PS4['name'])]\n",
    "\n",
    "# filtro las filas que son diferentes a PS4\n",
    "other_platforms = other_platforms[other_platforms!='PS4']"
   ]
  },
  {
   "cell_type": "code",
   "execution_count": 43,
   "metadata": {},
   "outputs": [
    {
     "data": {
      "image/png": "[encoded data removed]",
      "text/plain": [
       "<Figure size 864x432 with 1 Axes>"
      ]
     },
     "metadata": {
      "needs_background": "light"
     },
     "output_type": "display_data"
    },
    {
     "data": {
      "image/png": "[encoded data removed]",
      "text/plain": [
       "<Figure size 864x432 with 1 Axes>"
      ]
     },
     "metadata": {
      "needs_background": "light"
     },
     "output_type": "display_data"
    }
   ],
   "source": [
    "# creo el grafico de dispersión de ventas vs critic score para otras plataformas\n",
    "other_platforms.plot(kind= 'scatter',\n",
    "         x=['critic_score'],\n",
    "         y='total_sales',\n",
    "         title = \"Puntuación crítica y ventas totales Otras plataformas\",\n",
    "         figsize = (12,6),\n",
    "         xlabel = 'Puntuación crítica ',\n",
    "         ylabel = 'Millones USD',\n",
    "         color = \"#ff8c00\",\n",
    "         alpha = 0.60   \n",
    "         \n",
    "        )\n",
    "\n",
    "# creo el grafico de dispersión de ventas vs user score para otras plataformas\n",
    "other_platforms.plot(kind= 'scatter',\n",
    "         x=['user_score'],\n",
    "         y='total_sales',\n",
    "         title = \"Puntuación usuarios y ventas totales Otras plataformas\",\n",
    "         figsize = (12,6),\n",
    "         xlabel = 'Puntuación usuarios',\n",
    "         ylabel = 'Millones USD',\n",
    "         color = \"#ff8c00\",\n",
    "         alpha = 0.60\n",
    "        )\n",
    "\n",
    "plt.show()"
   ]
  },
  {
   "cell_type": "code",
   "execution_count": 44,
   "metadata": {},
   "outputs": [
    {
     "name": "stdout",
     "output_type": "stream",
     "text": [
      "Corr Otras critica : 0.32887278314533913\n",
      "Corr Otras usuarios : -0.038013591559597985\n"
     ]
    }
   ],
   "source": [
    "print('Corr Otras critica :',other_platforms['total_sales'].corr(other_platforms['critic_score']))\n",
    "print('Corr Otras usuarios :', other_platforms['total_sales'].corr(other_platforms['user_score']))"
   ]
  },
  {
   "cell_type": "markdown",
   "metadata": {},
   "source": [
    "**Conclusión Otras Plataformas** \n",
    "\n",
    "**La correlación entre la puntuación de la crítica es débil** para los mismos juegos de PS4 en otras plataformas, y sigue la misma tendencia descrita anteriormente.\n",
    "\n",
    "**No existe correlación entre la puntuación de usuarios y las ventas totales**, lo que refuerza pensar que esta no incide en el total de ventas de los juegos de la forma como lo hace la puntuación de la crítica."
   ]
  },
  {
   "cell_type": "markdown",
   "metadata": {},
   "source": [
    "3.10 Echa un vistazo a la distribución general de los juegos por género. ¿Qué se puede decir de los géneros más rentables? ¿Puedes generalizar acerca de los géneros con ventas altas y bajas?"
   ]
  },
  {
   "cell_type": "code",
   "execution_count": 45,
   "metadata": {
    "scrolled": false
   },
   "outputs": [
    {
     "data": {
      "image/png": "[encoded data removed]",
      "text/plain": [
       "<Figure size 864x432 with 2 Axes>"
      ]
     },
     "metadata": {
      "needs_background": "light"
     },
     "output_type": "display_data"
    }
   ],
   "source": [
    "# uso groupby para encontrar las unidades vendidas por genero\n",
    "top_genres = model_data.groupby(by=['genre'])['genre'].count().sort_values(ascending=False)\n",
    "\n",
    "# creo un gráfico de barras para las unidades en el eje 1\n",
    "ax = top_genres.plot(kind= 'bar',\n",
    "         x=['genre'],\n",
    "         y=['genre'],\n",
    "         title = \"Distribución general de los juegos por género últimos 5 años\",\n",
    "         figsize = (12,6),\n",
    "         xlabel = 'genero',\n",
    "         ylabel = 'Unidades',\n",
    "         color = \"#4169e1\",  #color azul\n",
    "         alpha = 0.9,\n",
    "         legend = True\n",
    "                )\n",
    "\n",
    "# uso groupby para encontrar las ventas totales por genero\n",
    "top_genres_sales = model_data.groupby(by=['genre'])['total_sales'].sum().sort_values(ascending=False)\n",
    "\n",
    "\n",
    "# creo un gráfico de barras para las ventas totales en el eje 2\n",
    "ax2 = top_genres_sales.plot(kind= 'line',\n",
    "         secondary_y = True,\n",
    "         x=['genre'],\n",
    "         y=['total_sales'],\n",
    "         alpha = 0.9,\n",
    "         color = '#ff8c00',       #color naranja                                 \n",
    "         rot = 45,\n",
    "         stacked = True,\n",
    "         legend = True\n",
    "                )\n",
    "\n",
    "ax.set_ylim(0,1500)               #defino el limite del eje 1\n",
    "ax2.set_ylim(0,1500)              #defino el limite del eje 2\n",
    "ax2.set_ylabel(\"Millones USD\")    #nombre eje 2\n",
    "plt.tight_layout()\n",
    "plt.show()"
   ]
  },
  {
   "cell_type": "code",
   "execution_count": 46,
   "metadata": {},
   "outputs": [
    {
     "data": {
      "text/plain": [
       "genre\n",
       "Action          0.288100\n",
       "Shooter         0.204806\n",
       "Role-Playing    0.124973\n",
       "Sports          0.120832\n",
       "Misc            0.071921\n",
       "Name: total_sales, dtype: float64"
      ]
     },
     "execution_count": 46,
     "metadata": {},
     "output_type": "execute_result"
    }
   ],
   "source": [
    "# analizo el porcentaje de ventas de cada genero para interpretar el análisis\n",
    "Sales_perc = top_genres_sales/ top_genres_sales.sum()\n",
    "Sales_perc.head(5)"
   ]
  },
  {
   "cell_type": "markdown",
   "metadata": {},
   "source": [
    "**Observaciones:**\n",
    "\n",
    "1. **Action, Shooter, Role-playing, Sports y Misc** son los 5 géneros más vendidos. Además **Action y Shooter representan el 49% de las ventas totales.**\n",
    "\n",
    "\n",
    "2. Teniendo en cuenta las ventas podemos ver que Action es el género con más unidades vendidas, sin embargo **Shooter genera más USD por cada unidad vendida** lo que implica una oportunidad de negocio atractiva.\n",
    "\n",
    "\n",
    "3. **Role playing, Sport** y Misc han vendido sobre 400 unidades, las 2 primeras **generan ingresos similares** vs misc que genera menos USD por cada unidad. \n"
   ]
  },
  {
   "cell_type": "code",
   "execution_count": 47,
   "metadata": {
    "scrolled": false
   },
   "outputs": [
    {
     "data": {
      "image/png": "[encoded data removed]",
      "text/plain": [
       "<Figure size 864x432 with 1 Axes>"
      ]
     },
     "metadata": {
      "needs_background": "light"
     },
     "output_type": "display_data"
    }
   ],
   "source": [
    "#uso groupby para analizar las ventas totales por genero\n",
    "box_genre = model_data.groupby(['genre','name'])['total_sales'].sum().reset_index()\n",
    "\n",
    "# creo un plot vacio\n",
    "plt.figure(figsize=(12,6))\n",
    "\n",
    "# creo un orden para las cajas\n",
    "order = model_data['genre'].unique()\n",
    "\n",
    "#uso seaborn para crear el box con mayor facilidad\n",
    "box_2 = sns.boxplot(data = box_genre,\n",
    "            x='genre',\n",
    "            y='total_sales',\n",
    "            showfliers=False,                    \n",
    "            order = order,             \n",
    "            )\n",
    "\n",
    "\n",
    "# defino un título para la gráfica, y los nombres de los ejes\n",
    "box_2.set_title('Diagrama de caja para las ventas globales por genero últimos 5 años')\n",
    "plt.xlabel('Platforma')\n",
    "plt.ylabel('Millones USD')\n",
    "plt.show()"
   ]
  },
  {
   "cell_type": "code",
   "execution_count": 48,
   "metadata": {},
   "outputs": [
    {
     "data": {
      "text/html": [
       "<div>\n",
       "<style scoped>\n",
       "    .dataframe tbody tr th:only-of-type {\n",
       "        vertical-align: middle;\n",
       "    }\n",
       "\n",
       "    .dataframe tbody tr th {\n",
       "        vertical-align: top;\n",
       "    }\n",
       "\n",
       "    .dataframe thead tr th {\n",
       "        text-align: left;\n",
       "    }\n",
       "\n",
       "    .dataframe thead tr:last-of-type th {\n",
       "        text-align: right;\n",
       "    }\n",
       "</style>\n",
       "<table border=\"1\" class=\"dataframe\">\n",
       "  <thead>\n",
       "    <tr>\n",
       "      <th></th>\n",
       "      <th>mean</th>\n",
       "      <th>var</th>\n",
       "      <th>sum</th>\n",
       "    </tr>\n",
       "    <tr>\n",
       "      <th></th>\n",
       "      <th>total_sales</th>\n",
       "      <th>total_sales</th>\n",
       "      <th>total_sales</th>\n",
       "    </tr>\n",
       "    <tr>\n",
       "      <th>genre</th>\n",
       "      <th></th>\n",
       "      <th></th>\n",
       "      <th></th>\n",
       "    </tr>\n",
       "  </thead>\n",
       "  <tbody>\n",
       "    <tr>\n",
       "      <th>Action</th>\n",
       "      <td>0.439488</td>\n",
       "      <td>1.242395</td>\n",
       "      <td>566.94</td>\n",
       "    </tr>\n",
       "    <tr>\n",
       "      <th>Shooter</th>\n",
       "      <td>1.210300</td>\n",
       "      <td>5.107317</td>\n",
       "      <td>403.03</td>\n",
       "    </tr>\n",
       "    <tr>\n",
       "      <th>Role-Playing</th>\n",
       "      <td>0.525491</td>\n",
       "      <td>1.682178</td>\n",
       "      <td>245.93</td>\n",
       "    </tr>\n",
       "    <tr>\n",
       "      <th>Sports</th>\n",
       "      <td>0.606582</td>\n",
       "      <td>1.148438</td>\n",
       "      <td>237.78</td>\n",
       "    </tr>\n",
       "    <tr>\n",
       "      <th>Misc</th>\n",
       "      <td>0.369530</td>\n",
       "      <td>0.907739</td>\n",
       "      <td>141.53</td>\n",
       "    </tr>\n",
       "    <tr>\n",
       "      <th>Racing</th>\n",
       "      <td>0.489176</td>\n",
       "      <td>1.454034</td>\n",
       "      <td>89.03</td>\n",
       "    </tr>\n",
       "    <tr>\n",
       "      <th>Platform</th>\n",
       "      <td>0.726885</td>\n",
       "      <td>2.291699</td>\n",
       "      <td>88.68</td>\n",
       "    </tr>\n",
       "    <tr>\n",
       "      <th>Fighting</th>\n",
       "      <td>0.420755</td>\n",
       "      <td>0.664160</td>\n",
       "      <td>66.90</td>\n",
       "    </tr>\n",
       "    <tr>\n",
       "      <th>Simulation</th>\n",
       "      <td>0.366087</td>\n",
       "      <td>1.022560</td>\n",
       "      <td>50.52</td>\n",
       "    </tr>\n",
       "    <tr>\n",
       "      <th>Adventure</th>\n",
       "      <td>0.109346</td>\n",
       "      <td>0.077583</td>\n",
       "      <td>45.16</td>\n",
       "    </tr>\n",
       "    <tr>\n",
       "      <th>Strategy</th>\n",
       "      <td>0.190763</td>\n",
       "      <td>0.086277</td>\n",
       "      <td>22.51</td>\n",
       "    </tr>\n",
       "    <tr>\n",
       "      <th>Puzzle</th>\n",
       "      <td>0.138732</td>\n",
       "      <td>0.081317</td>\n",
       "      <td>9.85</td>\n",
       "    </tr>\n",
       "  </tbody>\n",
       "</table>\n",
       "</div>"
      ],
      "text/plain": [
       "                    mean         var         sum\n",
       "             total_sales total_sales total_sales\n",
       "genre                                           \n",
       "Action          0.439488    1.242395      566.94\n",
       "Shooter         1.210300    5.107317      403.03\n",
       "Role-Playing    0.525491    1.682178      245.93\n",
       "Sports          0.606582    1.148438      237.78\n",
       "Misc            0.369530    0.907739      141.53\n",
       "Racing          0.489176    1.454034       89.03\n",
       "Platform        0.726885    2.291699       88.68\n",
       "Fighting        0.420755    0.664160       66.90\n",
       "Simulation      0.366087    1.022560       50.52\n",
       "Adventure       0.109346    0.077583       45.16\n",
       "Strategy        0.190763    0.086277       22.51\n",
       "Puzzle          0.138732    0.081317        9.85"
      ]
     },
     "execution_count": 48,
     "metadata": {},
     "output_type": "execute_result"
    }
   ],
   "source": [
    "# creo una pivot table para analizar promedio, varianza y total de ventas\n",
    "model_data.pivot_table(index= 'genre', values = \"total_sales\", aggfunc =['mean', 'var','sum']).sort_values(('sum',\"total_sales\"), ascending = False)"
   ]
  },
  {
   "cell_type": "markdown",
   "metadata": {},
   "source": [
    "**Observaciones géneros** \n",
    "1. De los géneros más vendidos podemos encontrar que **Shooter es el que tiene mayor promedio de ventas 1.21M.**\n",
    "\n",
    "\n",
    "2. **Action, por otra parte, tiene un comportamiento estable en comparacion**, con un promedio menor (0.44M) pero unas ventas predecibles en comparación a otros géneros.\n",
    "\n",
    "\n",
    "3. Por último, otros mercados de géneros tienen similitud en sus distribuciones, por ejemplo platform y racing o misc y simulation, lo que indica patrones de consumo similares en estos géneros.\n"
   ]
  },
  {
   "cell_type": "markdown",
   "metadata": {},
   "source": [
    "\n",
    "<div class=\"alert alert-block alert-success\">\n",
    "<b>Comentario del revisor:</b> <a class=\"tocSkip\"></a>\n",
    "\n",
    "Muy buen trabajo con el análisis exploratorio de los datos. Desarrollaste gráficas de box-plots para analizar ventas de las plataformas que más venden, scatter plots para ver la relación entre las score de usuarios y de los criticos respecto a las ventas, gráficas para identificar los juegos más populares en las distintas plataformas, gráficas de barras para analizar los géneros de juegos más populares y agregaste la conclusión y la interpretación de cada uno de estos resultados.   \n",
    "\n",
    "</div>"
   ]
  },
  {
   "cell_type": "markdown",
   "metadata": {},
   "source": [
    "**Paso 4. Crea un perfil de usuario para cada región**"
   ]
  },
  {
   "cell_type": "markdown",
   "metadata": {},
   "source": [
    "4.1 Para cada región (NA, UE, JP) determina Las cinco plataformas principales. Describe las variaciones en sus cuotas de mercado de una región a otra."
   ]
  },
  {
   "cell_type": "code",
   "execution_count": 49,
   "metadata": {},
   "outputs": [
    {
     "data": {
      "text/html": [
       "<div>\n",
       "<style scoped>\n",
       "    .dataframe tbody tr th:only-of-type {\n",
       "        vertical-align: middle;\n",
       "    }\n",
       "\n",
       "    .dataframe tbody tr th {\n",
       "        vertical-align: top;\n",
       "    }\n",
       "\n",
       "    .dataframe thead th {\n",
       "        text-align: right;\n",
       "    }\n",
       "</style>\n",
       "<table border=\"1\" class=\"dataframe\">\n",
       "  <thead>\n",
       "    <tr style=\"text-align: right;\">\n",
       "      <th></th>\n",
       "      <th>platform</th>\n",
       "      <th>sum</th>\n",
       "      <th>market_share</th>\n",
       "      <th>region</th>\n",
       "    </tr>\n",
       "  </thead>\n",
       "  <tbody>\n",
       "    <tr>\n",
       "      <th>0</th>\n",
       "      <td>X360</td>\n",
       "      <td>228.18</td>\n",
       "      <td>0.272952</td>\n",
       "      <td>NA</td>\n",
       "    </tr>\n",
       "    <tr>\n",
       "      <th>1</th>\n",
       "      <td>PS3</td>\n",
       "      <td>170.85</td>\n",
       "      <td>0.204373</td>\n",
       "      <td>NA</td>\n",
       "    </tr>\n",
       "    <tr>\n",
       "      <th>2</th>\n",
       "      <td>PS4</td>\n",
       "      <td>108.74</td>\n",
       "      <td>0.130076</td>\n",
       "      <td>NA</td>\n",
       "    </tr>\n",
       "    <tr>\n",
       "      <th>3</th>\n",
       "      <td>XOne</td>\n",
       "      <td>93.12</td>\n",
       "      <td>0.111392</td>\n",
       "      <td>NA</td>\n",
       "    </tr>\n",
       "    <tr>\n",
       "      <th>4</th>\n",
       "      <td>3DS</td>\n",
       "      <td>83.21</td>\n",
       "      <td>0.099537</td>\n",
       "      <td>NA</td>\n",
       "    </tr>\n",
       "  </tbody>\n",
       "</table>\n",
       "</div>"
      ],
      "text/plain": [
       "  platform     sum  market_share region\n",
       "0     X360  228.18      0.272952     NA\n",
       "1      PS3  170.85      0.204373     NA\n",
       "2      PS4  108.74      0.130076     NA\n",
       "3     XOne   93.12      0.111392     NA\n",
       "4      3DS   83.21      0.099537     NA"
      ]
     },
     "execution_count": 49,
     "metadata": {},
     "output_type": "execute_result"
    }
   ],
   "source": [
    "# creo una pivot table con las ventas de NA por plataforma\n",
    "NA = model_data.pivot_table(index='platform', values='na_sales', aggfunc=['sum']).reset_index()\n",
    "NA.columns = NA.columns.droplevel(1)\n",
    "\n",
    "# calculo la cuota de mercado\n",
    "NA['market_share']= NA['sum']/NA['sum'].sum()\n",
    "NA['region']= 'NA'\n",
    "\n",
    "#uso sort_values y head para las 5 plataformas más importantes\n",
    "NA = NA.sort_values(by='sum', ascending = False).head().reset_index(drop=True)\n",
    "NA"
   ]
  },
  {
   "cell_type": "code",
   "execution_count": 50,
   "metadata": {},
   "outputs": [
    {
     "data": {
      "text/html": [
       "<div>\n",
       "<style scoped>\n",
       "    .dataframe tbody tr th:only-of-type {\n",
       "        vertical-align: middle;\n",
       "    }\n",
       "\n",
       "    .dataframe tbody tr th {\n",
       "        vertical-align: top;\n",
       "    }\n",
       "\n",
       "    .dataframe thead th {\n",
       "        text-align: right;\n",
       "    }\n",
       "</style>\n",
       "<table border=\"1\" class=\"dataframe\">\n",
       "  <thead>\n",
       "    <tr style=\"text-align: right;\">\n",
       "      <th></th>\n",
       "      <th>platform</th>\n",
       "      <th>sum</th>\n",
       "      <th>market_share</th>\n",
       "      <th>region</th>\n",
       "    </tr>\n",
       "  </thead>\n",
       "  <tbody>\n",
       "    <tr>\n",
       "      <th>0</th>\n",
       "      <td>PS3</td>\n",
       "      <td>165.47</td>\n",
       "      <td>0.245261</td>\n",
       "      <td>UE</td>\n",
       "    </tr>\n",
       "    <tr>\n",
       "      <th>1</th>\n",
       "      <td>PS4</td>\n",
       "      <td>141.09</td>\n",
       "      <td>0.209124</td>\n",
       "      <td>UE</td>\n",
       "    </tr>\n",
       "    <tr>\n",
       "      <th>2</th>\n",
       "      <td>X360</td>\n",
       "      <td>117.87</td>\n",
       "      <td>0.174708</td>\n",
       "      <td>UE</td>\n",
       "    </tr>\n",
       "    <tr>\n",
       "      <th>3</th>\n",
       "      <td>3DS</td>\n",
       "      <td>61.48</td>\n",
       "      <td>0.091126</td>\n",
       "      <td>UE</td>\n",
       "    </tr>\n",
       "    <tr>\n",
       "      <th>4</th>\n",
       "      <td>PC</td>\n",
       "      <td>57.38</td>\n",
       "      <td>0.085049</td>\n",
       "      <td>UE</td>\n",
       "    </tr>\n",
       "  </tbody>\n",
       "</table>\n",
       "</div>"
      ],
      "text/plain": [
       "  platform     sum  market_share region\n",
       "0      PS3  165.47      0.245261     UE\n",
       "1      PS4  141.09      0.209124     UE\n",
       "2     X360  117.87      0.174708     UE\n",
       "3      3DS   61.48      0.091126     UE\n",
       "4       PC   57.38      0.085049     UE"
      ]
     },
     "execution_count": 50,
     "metadata": {},
     "output_type": "execute_result"
    }
   ],
   "source": [
    "# creo una pivot table con las ventas de UE por plataforma\n",
    "UE = model_data.pivot_table(index='platform', values='eu_sales', aggfunc=['sum']).reset_index()\n",
    "UE.columns = UE.columns.droplevel(1)\n",
    "\n",
    "# calculo la cuota de mercado\n",
    "UE['market_share']= UE['sum']/UE['sum'].sum()\n",
    "UE['region']= 'UE'\n",
    "\n",
    "#uso sort_values y head para las 5 plataformas más importantes\n",
    "UE = UE.sort_values(by='sum', ascending = False).head().reset_index(drop=True)\n",
    "UE"
   ]
  },
  {
   "cell_type": "code",
   "execution_count": 51,
   "metadata": {},
   "outputs": [
    {
     "data": {
      "text/html": [
       "<div>\n",
       "<style scoped>\n",
       "    .dataframe tbody tr th:only-of-type {\n",
       "        vertical-align: middle;\n",
       "    }\n",
       "\n",
       "    .dataframe tbody tr th {\n",
       "        vertical-align: top;\n",
       "    }\n",
       "\n",
       "    .dataframe thead th {\n",
       "        text-align: right;\n",
       "    }\n",
       "</style>\n",
       "<table border=\"1\" class=\"dataframe\">\n",
       "  <thead>\n",
       "    <tr style=\"text-align: right;\">\n",
       "      <th></th>\n",
       "      <th>platform</th>\n",
       "      <th>sum</th>\n",
       "      <th>market_share</th>\n",
       "      <th>region</th>\n",
       "    </tr>\n",
       "  </thead>\n",
       "  <tbody>\n",
       "    <tr>\n",
       "      <th>0</th>\n",
       "      <td>3DS</td>\n",
       "      <td>100.65</td>\n",
       "      <td>0.408018</td>\n",
       "      <td>JP</td>\n",
       "    </tr>\n",
       "    <tr>\n",
       "      <th>1</th>\n",
       "      <td>PS3</td>\n",
       "      <td>50.07</td>\n",
       "      <td>0.202976</td>\n",
       "      <td>JP</td>\n",
       "    </tr>\n",
       "    <tr>\n",
       "      <th>2</th>\n",
       "      <td>PSP</td>\n",
       "      <td>24.28</td>\n",
       "      <td>0.098427</td>\n",
       "      <td>JP</td>\n",
       "    </tr>\n",
       "    <tr>\n",
       "      <th>3</th>\n",
       "      <td>PSV</td>\n",
       "      <td>21.91</td>\n",
       "      <td>0.088820</td>\n",
       "      <td>JP</td>\n",
       "    </tr>\n",
       "    <tr>\n",
       "      <th>4</th>\n",
       "      <td>PS4</td>\n",
       "      <td>15.96</td>\n",
       "      <td>0.064699</td>\n",
       "      <td>JP</td>\n",
       "    </tr>\n",
       "  </tbody>\n",
       "</table>\n",
       "</div>"
      ],
      "text/plain": [
       "  platform     sum  market_share region\n",
       "0      3DS  100.65      0.408018     JP\n",
       "1      PS3   50.07      0.202976     JP\n",
       "2      PSP   24.28      0.098427     JP\n",
       "3      PSV   21.91      0.088820     JP\n",
       "4      PS4   15.96      0.064699     JP"
      ]
     },
     "execution_count": 51,
     "metadata": {},
     "output_type": "execute_result"
    }
   ],
   "source": [
    "# creo una pivot table con las ventas de JP por plataforma\n",
    "JP = model_data.pivot_table(index='platform', values='jp_sales', aggfunc=['sum']).reset_index()\n",
    "JP.columns = JP.columns.droplevel(1)\n",
    "\n",
    "# calculo la cuota de mercado\n",
    "JP['market_share']= JP['sum']/JP['sum'].sum()\n",
    "JP['region']= 'JP'\n",
    "\n",
    "#uso sort_values y head para las 5 plataformas más importantes\n",
    "JP = JP.sort_values(by='sum', ascending = False).head().reset_index(drop=True)\n",
    "JP"
   ]
  },
  {
   "cell_type": "code",
   "execution_count": 52,
   "metadata": {
    "scrolled": false
   },
   "outputs": [
    {
     "data": {
      "image/png": "[encoded data removed]",
      "text/plain": [
       "<Figure size 864x432 with 1 Axes>"
      ]
     },
     "metadata": {
      "needs_background": "light"
     },
     "output_type": "display_data"
    }
   ],
   "source": [
    "# creo un nuevo dataframe con la información de todas las regiones con el uso de append()\n",
    "Regions = NA.append(UE, ignore_index=False, verify_integrity=False, sort=None)\n",
    "Regions = Regions.append(JP, ignore_index=False, verify_integrity=False, sort=None).reset_index(drop = True)\n",
    "\n",
    "\n",
    "# creo un gráfico de barras agrupado por cada región y plataforma\n",
    "plt.figure(figsize=(12,6))\n",
    "x = sns.barplot(x=\"region\", \n",
    "                 y=\"market_share\", \n",
    "                 data= Regions, \n",
    "                 hue = 'platform')\n",
    "\n",
    "# defino un título para la gráfica, y los nombres del eje\n",
    "x.set_title('Las cinco plataformas principales para cada región según ventas')\n",
    "plt.ylabel('Cuota de Mercado')\n",
    "plt.show()"
   ]
  },
  {
   "cell_type": "markdown",
   "metadata": {},
   "source": [
    "**Observaciones:**\n",
    "\n",
    "1. **Para NA** las plataformas más importantes son **Xbox 360 seguido por PS3**.\n",
    "2. **Para UE** las plataformas más importantes son **PS3 seguido PS4**.\n",
    "3. **Para JP** la plataforma más importante con diferencia es **DS3 seguida por PS3** y sin presencia de Xbox en sus principales plataformas.\n"
   ]
  },
  {
   "cell_type": "markdown",
   "metadata": {},
   "source": [
    "4.2 Los cinco géneros principales. Explica la diferencia."
   ]
  },
  {
   "cell_type": "code",
   "execution_count": 53,
   "metadata": {},
   "outputs": [
    {
     "data": {
      "text/html": [
       "<div>\n",
       "<style scoped>\n",
       "    .dataframe tbody tr th:only-of-type {\n",
       "        vertical-align: middle;\n",
       "    }\n",
       "\n",
       "    .dataframe tbody tr th {\n",
       "        vertical-align: top;\n",
       "    }\n",
       "\n",
       "    .dataframe thead th {\n",
       "        text-align: right;\n",
       "    }\n",
       "</style>\n",
       "<table border=\"1\" class=\"dataframe\">\n",
       "  <thead>\n",
       "    <tr style=\"text-align: right;\">\n",
       "      <th></th>\n",
       "      <th>genre</th>\n",
       "      <th>sum</th>\n",
       "      <th>market_share</th>\n",
       "      <th>region</th>\n",
       "    </tr>\n",
       "  </thead>\n",
       "  <tbody>\n",
       "    <tr>\n",
       "      <th>0</th>\n",
       "      <td>Action</td>\n",
       "      <td>234.92</td>\n",
       "      <td>0.281015</td>\n",
       "      <td>NA</td>\n",
       "    </tr>\n",
       "    <tr>\n",
       "      <th>1</th>\n",
       "      <td>Shooter</td>\n",
       "      <td>194.49</td>\n",
       "      <td>0.232652</td>\n",
       "      <td>NA</td>\n",
       "    </tr>\n",
       "    <tr>\n",
       "      <th>2</th>\n",
       "      <td>Sports</td>\n",
       "      <td>108.86</td>\n",
       "      <td>0.130220</td>\n",
       "      <td>NA</td>\n",
       "    </tr>\n",
       "    <tr>\n",
       "      <th>3</th>\n",
       "      <td>Role-Playing</td>\n",
       "      <td>83.89</td>\n",
       "      <td>0.100350</td>\n",
       "      <td>NA</td>\n",
       "    </tr>\n",
       "    <tr>\n",
       "      <th>4</th>\n",
       "      <td>Misc</td>\n",
       "      <td>70.80</td>\n",
       "      <td>0.084692</td>\n",
       "      <td>NA</td>\n",
       "    </tr>\n",
       "  </tbody>\n",
       "</table>\n",
       "</div>"
      ],
      "text/plain": [
       "          genre     sum  market_share region\n",
       "0        Action  234.92      0.281015     NA\n",
       "1       Shooter  194.49      0.232652     NA\n",
       "2        Sports  108.86      0.130220     NA\n",
       "3  Role-Playing   83.89      0.100350     NA\n",
       "4          Misc   70.80      0.084692     NA"
      ]
     },
     "execution_count": 53,
     "metadata": {},
     "output_type": "execute_result"
    }
   ],
   "source": [
    "# creo una pivot table con las ventas de NA por genero\n",
    "NA_gen = model_data.pivot_table(index='genre', values='na_sales', aggfunc=['sum']).reset_index()\n",
    "NA_gen.columns = NA_gen.columns.droplevel(1)\n",
    "\n",
    "# calculo la cuota de mercado\n",
    "NA_gen['market_share']= NA_gen['sum']/NA_gen['sum'].sum()\n",
    "NA_gen['region']= 'NA'\n",
    "\n",
    "#uso sort_values y head para los 5 géneros más importantes\n",
    "NA_gen = NA_gen.sort_values(by='sum', ascending = False).head().reset_index(drop=True)\n",
    "NA_gen"
   ]
  },
  {
   "cell_type": "code",
   "execution_count": 54,
   "metadata": {},
   "outputs": [
    {
     "data": {
      "text/html": [
       "<div>\n",
       "<style scoped>\n",
       "    .dataframe tbody tr th:only-of-type {\n",
       "        vertical-align: middle;\n",
       "    }\n",
       "\n",
       "    .dataframe tbody tr th {\n",
       "        vertical-align: top;\n",
       "    }\n",
       "\n",
       "    .dataframe thead th {\n",
       "        text-align: right;\n",
       "    }\n",
       "</style>\n",
       "<table border=\"1\" class=\"dataframe\">\n",
       "  <thead>\n",
       "    <tr style=\"text-align: right;\">\n",
       "      <th></th>\n",
       "      <th>genre</th>\n",
       "      <th>sum</th>\n",
       "      <th>market_share</th>\n",
       "      <th>region</th>\n",
       "    </tr>\n",
       "  </thead>\n",
       "  <tbody>\n",
       "    <tr>\n",
       "      <th>0</th>\n",
       "      <td>Action</td>\n",
       "      <td>202.58</td>\n",
       "      <td>0.300265</td>\n",
       "      <td>UE</td>\n",
       "    </tr>\n",
       "    <tr>\n",
       "      <th>1</th>\n",
       "      <td>Shooter</td>\n",
       "      <td>148.07</td>\n",
       "      <td>0.219470</td>\n",
       "      <td>UE</td>\n",
       "    </tr>\n",
       "    <tr>\n",
       "      <th>2</th>\n",
       "      <td>Sports</td>\n",
       "      <td>88.83</td>\n",
       "      <td>0.131664</td>\n",
       "      <td>UE</td>\n",
       "    </tr>\n",
       "    <tr>\n",
       "      <th>3</th>\n",
       "      <td>Role-Playing</td>\n",
       "      <td>62.35</td>\n",
       "      <td>0.092416</td>\n",
       "      <td>UE</td>\n",
       "    </tr>\n",
       "    <tr>\n",
       "      <th>4</th>\n",
       "      <td>Racing</td>\n",
       "      <td>40.92</td>\n",
       "      <td>0.060652</td>\n",
       "      <td>UE</td>\n",
       "    </tr>\n",
       "  </tbody>\n",
       "</table>\n",
       "</div>"
      ],
      "text/plain": [
       "          genre     sum  market_share region\n",
       "0        Action  202.58      0.300265     UE\n",
       "1       Shooter  148.07      0.219470     UE\n",
       "2        Sports   88.83      0.131664     UE\n",
       "3  Role-Playing   62.35      0.092416     UE\n",
       "4        Racing   40.92      0.060652     UE"
      ]
     },
     "execution_count": 54,
     "metadata": {},
     "output_type": "execute_result"
    }
   ],
   "source": [
    "# creo una pivot table con las ventas de UE por genero\n",
    "UE_gen = model_data.pivot_table(index='genre', values='eu_sales', aggfunc=['sum']).reset_index()\n",
    "UE_gen.columns = UE_gen.columns.droplevel(1)\n",
    "\n",
    "# calculo la cuota de mercado\n",
    "UE_gen['market_share']= UE_gen['sum']/UE_gen['sum'].sum()\n",
    "UE_gen['region']= 'UE'\n",
    "\n",
    "#uso sort_values y head para los 5 géneros más importantes\n",
    "UE_gen = UE_gen.sort_values(by='sum', ascending = False).head().reset_index(drop=True)\n",
    "UE_gen"
   ]
  },
  {
   "cell_type": "code",
   "execution_count": 55,
   "metadata": {},
   "outputs": [
    {
     "data": {
      "text/html": [
       "<div>\n",
       "<style scoped>\n",
       "    .dataframe tbody tr th:only-of-type {\n",
       "        vertical-align: middle;\n",
       "    }\n",
       "\n",
       "    .dataframe tbody tr th {\n",
       "        vertical-align: top;\n",
       "    }\n",
       "\n",
       "    .dataframe thead th {\n",
       "        text-align: right;\n",
       "    }\n",
       "</style>\n",
       "<table border=\"1\" class=\"dataframe\">\n",
       "  <thead>\n",
       "    <tr style=\"text-align: right;\">\n",
       "      <th></th>\n",
       "      <th>genre</th>\n",
       "      <th>sum</th>\n",
       "      <th>market_share</th>\n",
       "      <th>region</th>\n",
       "    </tr>\n",
       "  </thead>\n",
       "  <tbody>\n",
       "    <tr>\n",
       "      <th>0</th>\n",
       "      <td>Role-Playing</td>\n",
       "      <td>79.98</td>\n",
       "      <td>0.324226</td>\n",
       "      <td>JP</td>\n",
       "    </tr>\n",
       "    <tr>\n",
       "      <th>1</th>\n",
       "      <td>Action</td>\n",
       "      <td>64.26</td>\n",
       "      <td>0.260499</td>\n",
       "      <td>JP</td>\n",
       "    </tr>\n",
       "    <tr>\n",
       "      <th>2</th>\n",
       "      <td>Misc</td>\n",
       "      <td>17.85</td>\n",
       "      <td>0.072361</td>\n",
       "      <td>JP</td>\n",
       "    </tr>\n",
       "    <tr>\n",
       "      <th>3</th>\n",
       "      <td>Fighting</td>\n",
       "      <td>12.38</td>\n",
       "      <td>0.050186</td>\n",
       "      <td>JP</td>\n",
       "    </tr>\n",
       "    <tr>\n",
       "      <th>4</th>\n",
       "      <td>Platform</td>\n",
       "      <td>12.13</td>\n",
       "      <td>0.049173</td>\n",
       "      <td>JP</td>\n",
       "    </tr>\n",
       "  </tbody>\n",
       "</table>\n",
       "</div>"
      ],
      "text/plain": [
       "          genre    sum  market_share region\n",
       "0  Role-Playing  79.98      0.324226     JP\n",
       "1        Action  64.26      0.260499     JP\n",
       "2          Misc  17.85      0.072361     JP\n",
       "3      Fighting  12.38      0.050186     JP\n",
       "4      Platform  12.13      0.049173     JP"
      ]
     },
     "execution_count": 55,
     "metadata": {},
     "output_type": "execute_result"
    }
   ],
   "source": [
    "# creo una pivot table con las ventas de JP por genero\n",
    "JP_gen = model_data.pivot_table(index='genre', values='jp_sales', aggfunc=['sum']).reset_index()\n",
    "JP_gen.columns = JP_gen.columns.droplevel(1)\n",
    "\n",
    "# calculo la cuota de mercado\n",
    "JP_gen['market_share']= JP_gen['sum']/JP_gen['sum'].sum()\n",
    "JP_gen['region']= 'JP'\n",
    "\n",
    "#uso sort_values y head para los 5 géneros más importantes\n",
    "JP_gen = JP_gen.sort_values(by='sum', ascending = False).head().reset_index(drop=True)\n",
    "JP_gen"
   ]
  },
  {
   "cell_type": "code",
   "execution_count": 56,
   "metadata": {},
   "outputs": [
    {
     "data": {
      "image/png": "[encoded data removed]",
      "text/plain": [
       "<Figure size 864x432 with 1 Axes>"
      ]
     },
     "metadata": {
      "needs_background": "light"
     },
     "output_type": "display_data"
    }
   ],
   "source": [
    "# creo un nuevo dataframe con la información de todas las regiones con el uso de append()\n",
    "Regions_gen = NA_gen.append(UE_gen, ignore_index=False, verify_integrity=False, sort=None)\n",
    "Regions_gen = Regions_gen.append(JP_gen, ignore_index=False, verify_integrity=False, sort=None).reset_index(drop = True)\n",
    "\n",
    "# creo un gráfico de barras agrupado por cada región y genero\n",
    "plt.figure(figsize=(12,6))\n",
    "ax = sns.barplot(x=\"region\", \n",
    "                 y=\"sum\", \n",
    "                 data= Regions_gen, \n",
    "                 hue = 'genre',\n",
    "                 )\n",
    "\n",
    "# defino un título para la gráfica, y los nombres del eje\n",
    "ax.set_title('Los géneros principales para cada región según ventas')\n",
    "plt.ylabel('Millones USD')\n",
    "plt.show()"
   ]
  },
  {
   "cell_type": "markdown",
   "metadata": {},
   "source": [
    "**Observaciones regiones & generos:**\n",
    "\n",
    "1. **Para NA y UE predominan los juegos de accion y shooter,** además poseen un perfil bastante similar en términos de los géneros favoritos. Esto se puede explicar por las plataformas favoritas analizadas anteriormente y los juegos que ofrecen, además de una afinidad cultural.\n",
    "\n",
    "\n",
    "2. **Para JP predomina los juegos de Role y los juegos de acción**, y a diferencia de NA y UE no hay presencia importante de los shooter y juegos sport. Lo que indica un interes por juegos de aventura y role además de que puede que en la sociedad no sean ampliamente aceptados cierto tipos de juegos.\n",
    "\n",
    "\n",
    "3. **Tamaño de los mercados de cada región**, analizando por ventas podemos comparar el tamaño de los mercados siendo **NA el más importante, luego UE y el menor JP.**\n"
   ]
  },
  {
   "cell_type": "markdown",
   "metadata": {},
   "source": [
    "4.3 Si las clasificaciones de ESRB afectan a las ventas en regiones individuales."
   ]
  },
  {
   "cell_type": "code",
   "execution_count": 57,
   "metadata": {},
   "outputs": [
    {
     "data": {
      "text/html": [
       "<div>\n",
       "<style scoped>\n",
       "    .dataframe tbody tr th:only-of-type {\n",
       "        vertical-align: middle;\n",
       "    }\n",
       "\n",
       "    .dataframe tbody tr th {\n",
       "        vertical-align: top;\n",
       "    }\n",
       "\n",
       "    .dataframe thead th {\n",
       "        text-align: right;\n",
       "    }\n",
       "</style>\n",
       "<table border=\"1\" class=\"dataframe\">\n",
       "  <thead>\n",
       "    <tr style=\"text-align: right;\">\n",
       "      <th></th>\n",
       "      <th>rating</th>\n",
       "      <th>sum</th>\n",
       "      <th>market_share</th>\n",
       "      <th>region</th>\n",
       "    </tr>\n",
       "  </thead>\n",
       "  <tbody>\n",
       "    <tr>\n",
       "      <th>0</th>\n",
       "      <td>M</td>\n",
       "      <td>309.65</td>\n",
       "      <td>0.434944</td>\n",
       "      <td>NA</td>\n",
       "    </tr>\n",
       "    <tr>\n",
       "      <th>1</th>\n",
       "      <td>E</td>\n",
       "      <td>170.53</td>\n",
       "      <td>0.239532</td>\n",
       "      <td>NA</td>\n",
       "    </tr>\n",
       "    <tr>\n",
       "      <th>2</th>\n",
       "      <td>E10+</td>\n",
       "      <td>120.03</td>\n",
       "      <td>0.168598</td>\n",
       "      <td>NA</td>\n",
       "    </tr>\n",
       "    <tr>\n",
       "      <th>3</th>\n",
       "      <td>T</td>\n",
       "      <td>111.30</td>\n",
       "      <td>0.156336</td>\n",
       "      <td>NA</td>\n",
       "    </tr>\n",
       "    <tr>\n",
       "      <th>4</th>\n",
       "      <td>EC</td>\n",
       "      <td>0.42</td>\n",
       "      <td>0.000590</td>\n",
       "      <td>NA</td>\n",
       "    </tr>\n",
       "  </tbody>\n",
       "</table>\n",
       "</div>"
      ],
      "text/plain": [
       "  rating     sum  market_share region\n",
       "0      M  309.65      0.434944     NA\n",
       "1      E  170.53      0.239532     NA\n",
       "2   E10+  120.03      0.168598     NA\n",
       "3      T  111.30      0.156336     NA\n",
       "4     EC    0.42      0.000590     NA"
      ]
     },
     "execution_count": 57,
     "metadata": {},
     "output_type": "execute_result"
    }
   ],
   "source": [
    "# creo una pivot table con las ventas de NA por rating\n",
    "NA_rate = model_data.pivot_table(index='rating', values='na_sales', aggfunc=['sum']).reset_index()\n",
    "NA_rate.columns = NA_rate.columns.droplevel(1)\n",
    "\n",
    "# calculo la cuota de mercado\n",
    "NA_rate['market_share']= NA_rate['sum']/NA_rate['sum'].sum()\n",
    "NA_rate['region']= 'NA'\n",
    "\n",
    "\n",
    "#uso sort_values y head para los 5 ratings  más importantes\n",
    "NA_rate = NA_rate.sort_values(by='sum', ascending = False).head().reset_index(drop=True)\n",
    "NA_rate"
   ]
  },
  {
   "cell_type": "code",
   "execution_count": 58,
   "metadata": {},
   "outputs": [
    {
     "data": {
      "text/html": [
       "<div>\n",
       "<style scoped>\n",
       "    .dataframe tbody tr th:only-of-type {\n",
       "        vertical-align: middle;\n",
       "    }\n",
       "\n",
       "    .dataframe tbody tr th {\n",
       "        vertical-align: top;\n",
       "    }\n",
       "\n",
       "    .dataframe thead th {\n",
       "        text-align: right;\n",
       "    }\n",
       "</style>\n",
       "<table border=\"1\" class=\"dataframe\">\n",
       "  <thead>\n",
       "    <tr style=\"text-align: right;\">\n",
       "      <th></th>\n",
       "      <th>rating</th>\n",
       "      <th>sum</th>\n",
       "      <th>market_share</th>\n",
       "      <th>region</th>\n",
       "    </tr>\n",
       "  </thead>\n",
       "  <tbody>\n",
       "    <tr>\n",
       "      <th>0</th>\n",
       "      <td>M</td>\n",
       "      <td>251.67</td>\n",
       "      <td>0.451151</td>\n",
       "      <td>UE</td>\n",
       "    </tr>\n",
       "    <tr>\n",
       "      <th>1</th>\n",
       "      <td>E</td>\n",
       "      <td>141.95</td>\n",
       "      <td>0.254464</td>\n",
       "      <td>UE</td>\n",
       "    </tr>\n",
       "    <tr>\n",
       "      <th>2</th>\n",
       "      <td>T</td>\n",
       "      <td>84.31</td>\n",
       "      <td>0.151137</td>\n",
       "      <td>UE</td>\n",
       "    </tr>\n",
       "    <tr>\n",
       "      <th>3</th>\n",
       "      <td>E10+</td>\n",
       "      <td>79.88</td>\n",
       "      <td>0.143195</td>\n",
       "      <td>UE</td>\n",
       "    </tr>\n",
       "    <tr>\n",
       "      <th>4</th>\n",
       "      <td>RP</td>\n",
       "      <td>0.03</td>\n",
       "      <td>0.000054</td>\n",
       "      <td>UE</td>\n",
       "    </tr>\n",
       "  </tbody>\n",
       "</table>\n",
       "</div>"
      ],
      "text/plain": [
       "  rating     sum  market_share region\n",
       "0      M  251.67      0.451151     UE\n",
       "1      E  141.95      0.254464     UE\n",
       "2      T   84.31      0.151137     UE\n",
       "3   E10+   79.88      0.143195     UE\n",
       "4     RP    0.03      0.000054     UE"
      ]
     },
     "execution_count": 58,
     "metadata": {},
     "output_type": "execute_result"
    }
   ],
   "source": [
    "# creo una pivot table con las ventas de UE por rating\n",
    "UE_rate = model_data.pivot_table(index='rating', values='eu_sales', aggfunc=['sum']).reset_index()\n",
    "UE_rate.columns = UE_rate.columns.droplevel(1)\n",
    "\n",
    "# calculo la cuota de mercado\n",
    "UE_rate['market_share']= UE_rate['sum']/UE_rate['sum'].sum()\n",
    "UE_rate['region']= 'UE'\n",
    "\n",
    "#uso sort_values y head para los 5 ratings  más importantes\n",
    "UE_rate = UE_rate.sort_values(by='sum', ascending = False).head().reset_index(drop=True)\n",
    "UE_rate"
   ]
  },
  {
   "cell_type": "code",
   "execution_count": 59,
   "metadata": {},
   "outputs": [
    {
     "data": {
      "text/html": [
       "<div>\n",
       "<style scoped>\n",
       "    .dataframe tbody tr th:only-of-type {\n",
       "        vertical-align: middle;\n",
       "    }\n",
       "\n",
       "    .dataframe tbody tr th {\n",
       "        vertical-align: top;\n",
       "    }\n",
       "\n",
       "    .dataframe thead th {\n",
       "        text-align: right;\n",
       "    }\n",
       "</style>\n",
       "<table border=\"1\" class=\"dataframe\">\n",
       "  <thead>\n",
       "    <tr style=\"text-align: right;\">\n",
       "      <th></th>\n",
       "      <th>rating</th>\n",
       "      <th>sum</th>\n",
       "      <th>market_share</th>\n",
       "      <th>region</th>\n",
       "    </tr>\n",
       "  </thead>\n",
       "  <tbody>\n",
       "    <tr>\n",
       "      <th>0</th>\n",
       "      <td>E</td>\n",
       "      <td>36.68</td>\n",
       "      <td>0.339127</td>\n",
       "      <td>JP</td>\n",
       "    </tr>\n",
       "    <tr>\n",
       "      <th>1</th>\n",
       "      <td>T</td>\n",
       "      <td>33.47</td>\n",
       "      <td>0.309449</td>\n",
       "      <td>JP</td>\n",
       "    </tr>\n",
       "    <tr>\n",
       "      <th>2</th>\n",
       "      <td>M</td>\n",
       "      <td>26.78</td>\n",
       "      <td>0.247596</td>\n",
       "      <td>JP</td>\n",
       "    </tr>\n",
       "    <tr>\n",
       "      <th>3</th>\n",
       "      <td>E10+</td>\n",
       "      <td>11.23</td>\n",
       "      <td>0.103828</td>\n",
       "      <td>JP</td>\n",
       "    </tr>\n",
       "    <tr>\n",
       "      <th>4</th>\n",
       "      <td>EC</td>\n",
       "      <td>0.00</td>\n",
       "      <td>0.000000</td>\n",
       "      <td>JP</td>\n",
       "    </tr>\n",
       "  </tbody>\n",
       "</table>\n",
       "</div>"
      ],
      "text/plain": [
       "  rating    sum  market_share region\n",
       "0      E  36.68      0.339127     JP\n",
       "1      T  33.47      0.309449     JP\n",
       "2      M  26.78      0.247596     JP\n",
       "3   E10+  11.23      0.103828     JP\n",
       "4     EC   0.00      0.000000     JP"
      ]
     },
     "execution_count": 59,
     "metadata": {},
     "output_type": "execute_result"
    }
   ],
   "source": [
    "# creo una pivot table con las ventas de JP por rating\n",
    "JP_rate = model_data.pivot_table(index='rating', values='jp_sales', aggfunc=['sum']).reset_index()\n",
    "JP_rate.columns = JP_rate.columns.droplevel(1)\n",
    "\n",
    "# calculo la cuota de mercado\n",
    "JP_rate['market_share']= JP_rate['sum']/JP_rate['sum'].sum()\n",
    "JP_rate['region']= 'JP'\n",
    "\n",
    "#uso sort_values y head para los 5 ratings  más importantes\n",
    "JP_rate = JP_rate.sort_values(by='sum', ascending = False).head().reset_index(drop=True)\n",
    "JP_rate"
   ]
  },
  {
   "cell_type": "code",
   "execution_count": 60,
   "metadata": {},
   "outputs": [
    {
     "data": {
      "image/png": "[encoded data removed]",
      "text/plain": [
       "<Figure size 864x432 with 1 Axes>"
      ]
     },
     "metadata": {
      "needs_background": "light"
     },
     "output_type": "display_data"
    }
   ],
   "source": [
    "# creo un nuevo dataframe con la información de todas las regiones con el uso de append()\n",
    "Regions_rate = NA_rate.append(UE_rate, ignore_index=False, verify_integrity=False, sort=None)\n",
    "Regions_rate = Regions_rate.append(JP_rate, ignore_index=False, verify_integrity=False, sort=None).reset_index(drop = True)\n",
    "\n",
    "\n",
    "# creo un gráfico de barras agrupado por cada región y genero\n",
    "plt.figure(figsize=(12,6))\n",
    "ax = sns.barplot(x=\"region\", \n",
    "                 y=\"sum\", \n",
    "                 data= Regions_rate, \n",
    "                 hue = 'rating')\n",
    "\n",
    "# defino un título para la gráfica, y los nombres del eje\n",
    "ax.set_title('Los ratings principales para cada región')\n",
    "plt.ylabel('Millones USD')\n",
    "plt.show()"
   ]
  },
  {
   "cell_type": "markdown",
   "metadata": {},
   "source": [
    "**Significado de Rating:**\n",
    "**M:** Mature +17,\n",
    "**E:** Everyone,\n",
    "**E10+:** Everyone +10,\n",
    "**T:** Teen,\n",
    "**EC:** Early Childhood,\n",
    "**RP:** Rate Pending,"
   ]
  },
  {
   "cell_type": "markdown",
   "metadata": {},
   "source": [
    "**Observaciones regiones & ratings:**\n",
    "\n",
    "1. **Para NA y UE predomina el rating M +17, seguido por E y E10+ y por último Teen** , comparten perfiles de usuario muy similares en términos de rating **inclinados a los juegos para adultos y adolescentes.**\n",
    "\n",
    "\n",
    "2. **Para JP por el contrario los juegos que más generan ventas tienen rating E y luego Teen**, tiene sentido debido a las plataformas y géneros favoritos en la región que identificamos anteriormente (ejemplo: Nintendo con la 3Ds)\n"
   ]
  },
  {
   "cell_type": "markdown",
   "metadata": {},
   "source": [
    "\n",
    "<div class=\"alert alert-block alert-success\">\n",
    "<b>Comentario del revisor:</b> <a class=\"tocSkip\"></a>\n",
    "\n",
    "Excelente! Con este análisis por región ayuda a complementar el análisis general anterior y a hacer zoom a los resultados por cada una de las regiones.   \n",
    "\n",
    "</div>"
   ]
  },
  {
   "cell_type": "markdown",
   "metadata": {},
   "source": [
    "**Paso 5. Prueba las siguientes hipótesis:**\n",
    "\n",
    "**Nota:** Para ambas hipótesis se utilizó la prueba de **t.studen con un alpha de 0.05** ya que las muestras siguen una distribución normal y esto nos permite analizar la probabilidad de que sean iguales o diferentes.\n",
    "\n",
    "**Para analizar las hipótesis utilizare cada una como hipótesis nula y creare a continuación la hipótesis alternativa que será opuesta**, como se indica a continuación.\n"
   ]
  },
  {
   "cell_type": "markdown",
   "metadata": {},
   "source": [
    "**Las calificaciones promedio de los usuarios para las plataformas Xbox One y PC son las mismas.**"
   ]
  },
  {
   "cell_type": "markdown",
   "metadata": {},
   "source": [
    "**H0:** Las calificaciones promedio de los usuarios para las plataformas Xbox One y PC **son las mismas.**\n",
    "\n",
    "**H1:** Las calificaciones promedio de los usuarios para las plataformas Xbox One y PC **No son las mismas.**"
   ]
  },
  {
   "cell_type": "code",
   "execution_count": 61,
   "metadata": {},
   "outputs": [
    {
     "name": "stdout",
     "output_type": "stream",
     "text": [
      "Xbox var: 1.780140817214509\n",
      "Pc Var: 2.5824956924172304\n",
      "p-value: 0.7557794390698395\n",
      "No rechazamos H0\n"
     ]
    }
   ],
   "source": [
    "# creo una tabla con solo los datos para Xbox One\n",
    "# luego creo una tabla con solo los datos PC\n",
    "xbox = model_data[model_data['platform'] == \"XOne\"].dropna()\n",
    "pc = model_data[model_data['platform'] == \"PC\"].dropna()\n",
    "\n",
    "# Varianza de cada plataforma\n",
    "print('Xbox var:', np.var(xbox['user_score']))\n",
    "print('Pc Var:', np.var(pc['user_score']))\n",
    "\n",
    "# Prueba las hipótesis\n",
    "alpha = 0.05\n",
    "\n",
    "#uso t-student para comparar dos muestras independientes y defino equal_var = Fasle\n",
    "results = st.ttest_ind(xbox['user_score'],pc['user_score'],equal_var= False)\n",
    "\n",
    "#extraigo solo el p-value del test\n",
    "print('p-value:', results.pvalue)\n",
    "\n",
    "\n",
    "#creo un if para el resultado \n",
    "if results.pvalue < alpha:\n",
    "    print(\"Rechazamos H0\")  #si el p-value es menor a 5% rechazamos la Hipotesis nula\n",
    "else:\n",
    "    print(\"No rechazamos H0\")  #si el p-value es mayor a 5% NO rechazamos la Hipotesis nula\n",
    "    "
   ]
  },
  {
   "cell_type": "markdown",
   "metadata": {},
   "source": [
    "**No Rechazamos la Hipótesis Nula:**  Las calificaciones promedio de los usuarios para las plataformas Xbox One y PC **son las mismas.**\n",
    "\n",
    "Si lo vemos gráficamente podemos evidenciar la similitud de las distribuciones para ambas plataformas\n"
   ]
  },
  {
   "cell_type": "code",
   "execution_count": 62,
   "metadata": {},
   "outputs": [
    {
     "data": {
      "image/png": "[encoded data removed]",
      "text/plain": [
       "<Figure size 864x432 with 1 Axes>"
      ]
     },
     "metadata": {
      "needs_background": "light"
     },
     "output_type": "display_data"
    }
   ],
   "source": [
    "# creo una linea para xbox con kind=kde: para graficar la distribución\n",
    "xbox['user_score'].plot(kind='kde',\n",
    "                figsize = (12,6),\n",
    "                xlim=(0,10),\n",
    "                color= \"#FE7A36\",\n",
    "                alpha =0.8,\n",
    "                title = \"Calificaciones promedio de los usuarios para las plataformas Xbox One y PC\"\n",
    "                )\n",
    "\n",
    "# creo una linea para PC con kind=kde: para graficar la distribución\n",
    "pc['user_score'].plot(kind='kde',\n",
    "                color=\"steelblue\",\n",
    "                alpha =0.8)\n",
    "\n",
    "#agrego una legenda a la grafica\n",
    "plt.legend(['Xbox One', 'PC'], title='Plan')\n",
    "plt.show()"
   ]
  },
  {
   "cell_type": "markdown",
   "metadata": {},
   "source": [
    "**Las calificaciones promedio de los usuarios para los géneros de Acción y Deportes son diferentes.**\n",
    "\n",
    "usare como **H0: Las calificaciones promedio de los usuarios para los géneros de Acción y Deportes No son diferentes.** Para asi poder comparar con mayor facilidad los resultados\n"
   ]
  },
  {
   "cell_type": "markdown",
   "metadata": {},
   "source": [
    "**H0:** Las calificaciones promedio de los usuarios para los géneros de Acción y Deportes **No son diferentes.**\n",
    "\n",
    "**H1:** Las calificaciones promedio de los usuarios para los géneros de Acción y Deportes **son diferentes.**"
   ]
  },
  {
   "cell_type": "code",
   "execution_count": 63,
   "metadata": {},
   "outputs": [
    {
     "name": "stdout",
     "output_type": "stream",
     "text": [
      "action var: 1.6638331824247796\n",
      "sport Var: 1.9632170811766188\n",
      "p-value: 3.017792093288514e-12\n",
      "Rechazamos H0\n"
     ]
    }
   ],
   "source": [
    "# creo una tabla con solo los datos para accion\n",
    "# luego creo una tabla con solo los sport\n",
    "action = model_data[model_data['genre'] == \"Action\"].dropna()\n",
    "sport = model_data[model_data['genre'] == \"Sports\"].dropna()\n",
    "\n",
    "# Varianza de cada plataforma\n",
    "print('action var:', np.var(action['user_score']))\n",
    "print('sport Var:', np.var(sport['user_score']))\n",
    "\n",
    "# Prueba las hipótesis\n",
    "alpha = 0.05\n",
    "\n",
    "#uso t-student para comparar dos muestras independientes y defino equal_var = Fasle\n",
    "results = st.ttest_ind(action['user_score'],sport['user_score'],equal_var= False)\n",
    "\n",
    "#extraigo solo el p-value del test\n",
    "print('p-value:', results.pvalue)\n",
    "\n",
    "#creo un if para el resultado \n",
    "if results.pvalue < alpha:\n",
    "    print(\"Rechazamos H0\")      #si el p-value es menor a 5% rechazamos la Hipotesis nula\n",
    "else:\n",
    "    print(\"No rechazamos H0\")   #si el p-value es mayor a 5% NO rechazamos la Hipotesis nula\n",
    "    "
   ]
  },
  {
   "cell_type": "markdown",
   "metadata": {},
   "source": [
    "**Rechazamos la Hipótesis Nula:** Las calificaciones promedio de los usuarios para los géneros de Acción y Deportes **No son diferentes.**\n",
    "\n",
    "Si lo vemos gráficamente podemos evidenciar que acción y deportes poseen distribuciones significativamente diferentes.\n"
   ]
  },
  {
   "cell_type": "code",
   "execution_count": 64,
   "metadata": {
    "scrolled": false
   },
   "outputs": [
    {
     "data": {
      "image/png": "[encoded data removed]",
      "text/plain": [
       "<Figure size 864x432 with 1 Axes>"
      ]
     },
     "metadata": {
      "needs_background": "light"
     },
     "output_type": "display_data"
    }
   ],
   "source": [
    "action['user_score'].plot(kind='kde',\n",
    "                figsize = (12,6),\n",
    "                xlim=(0,10),\n",
    "                color= \"#FE7A36\",\n",
    "                alpha =0.8,\n",
    "                title = \"Calificaciones promedio de los usuarios para los géneros de Acción y Deportes\"          \n",
    "                )\n",
    "\n",
    "sport['user_score'].plot(kind='kde',\n",
    "                color=\"steelblue\",\n",
    "                alpha =0.8)\n",
    "\n",
    "plt.legend(['Action', 'Sports'], title='Plan')\n",
    "plt.show()"
   ]
  },
  {
   "cell_type": "markdown",
   "metadata": {},
   "source": [
    "**Paso 6. Escribe una conclusión general**"
   ]
  },
  {
   "cell_type": "markdown",
   "metadata": {},
   "source": [
    "En primer lugar se realizó una exploración y limpieza de los datos de ventas de videojuegos, en la cual se abordaron valores ausentes en las columnas `\"name\"` `\"genre\"` y `\"year of release\"`, se decide mantener valores ausentes en las columnas `\"critic_score\"`, `\"user_score\"` y `\"rating\"` para no afectar los la precisión de los mismos.\n",
    "\n",
    "Basado en el análisis de los datos se identificaron los siguientes patrones que determinan si un juego tiene éxito o no y se respondieron a las siguientes preguntas para los datos de los últimos 5 años:\n",
    "\n",
    "**1. ¿Qué plataformas son líderes en ventas?**\n",
    "- La plataforma potencial con mayor crecimiento es **la PS4 seguida por la Xbox One** y se recomienda enfocar los esfuerzos de marketing estas mismas.\n",
    "\n",
    "- Por otra parte **PC, WiiU y PSV han disminuido en ventas.**\n",
    "- **Los ciclos de vida son importantes** y las plataformas tienen un pedido de ventas exitoso de 3 a 5 años para una nueva campaña es importante concentrarse en la nuevas generaciones de consolas para maximizar las ventas.\n",
    "\n",
    "\n",
    "**2. Cómo las reseñas de usuarios y profesionales afectan las ventas?**\n",
    "\n",
    "- Las ventas suelen ser más favorables cuando la puntuación es 70 o más, sin embargo esto no garanitza el exito del juego. \n",
    "- La puntuación de usuarios no afecta de la misma forma las ventas totales y es una relación mucho más débil.\n",
    "\n",
    "**3. Cuáles son los géneros con mayores ventas para tenerlos en cuenta en la campaña?**\n",
    "- **Action, Shooter, Role-playing, Sports y Misc** son los 5 géneros más vendidos.\n",
    "\n",
    "- **Action y Shooter representan el 49% de las ventas totales**, por lo que se perfilan como los mercados más rentables en los últimos 5 años.\n",
    "\n",
    "- **Shooter es el género con mayor promedio de ventas (1.21M)** y ganancia por unidad vendida.\n",
    "\n",
    "- **Action, por otra parte, tiene un comportamiento estable en comparación (0.44M)**, un mercado mayor pero menor ganancia por unidad.\n",
    "\n",
    "**4. Crea un perfil por región:** se obtuvieron conclusiones importantes sobre las preferencias de plataformas, género y rating de los usuarios para cada región descritas a continuación:\n",
    "\n",
    "**Las plataformas favoritas en cada región son:**\n",
    "- Norte América: Xbox 360 y PS3.\n",
    "- Europea : PS3 y PS4.\n",
    "- Japón: DS3 y PS3 \n",
    "\n",
    "**Los géneros favoritos en cada región son:**\n",
    "- Para **Norte América y Europa** predominan los juegos de **acción y shooter**, \n",
    "- Para **Japón** predominan los juegos de **role y acción**\n",
    "\n",
    "**Los Calificaciones ESRB más vendidas en cada región son:**\n",
    "- Para **Norte América y Europa** predomina el rating M +17, seguido por E y E10+ y por último adolecente (**mercados inclinados a los juegos para adultos y adolescentes.**)\n",
    "\n",
    "- Para **Japón** por el contrario los juegos que más generan ventas tienen rating E y luego Teen **(mercado inclinado a (todo el mundo y adolescentes**)\n",
    "\n",
    "**5. Prueba de hipótesis:**\n",
    "\n",
    "1. **Las calificaciones promedio de los usuarios para las plataformas Xbox One y PC son las mismas.** \n",
    "No Rechazada: Es razonable pensar que las calificaciones de Xbox y PC son significativamente las mismas.\n",
    "\n",
    "\n",
    "2. **Las calificaciones promedio de los usuarios para los géneros de Acción y Deportes No son diferentes.**\n",
    "Rechazada: Es razonable pensar que las calificaciones son significativamente diferentes.\n",
    "\n"
   ]
  }
 ],
 "metadata": {
  "kernelspec": {
   "display_name": "Python 3 (ipykernel)",
   "language": "python",
   "name": "python3"
  },
  "language_info": {
   "codemirror_mode": {
    "name": "ipython",
    "version": 3
   },
   "file_extension": ".py",
   "mimetype": "text/x-python",
   "name": "python",
   "nbconvert_exporter": "python",
   "pygments_lexer": "ipython3",
   "version": "3.9.5"
  },
  "toc": {
   "base_numbering": 1,
   "nav_menu": {},
   "number_sections": true,
   "sideBar": true,
   "skip_h1_title": true,
   "title_cell": "Table of Contents",
   "title_sidebar": "Contents",
   "toc_cell": false,
   "toc_position": {},
   "toc_section_display": true,
   "toc_window_display": false
  }
 },
 "nbformat": 4,
 "nbformat_minor": 2
}
